{
 "cells": [
  {
   "cell_type": "code",
   "execution_count": 3,
   "id": "b8cd2d6a",
   "metadata": {},
   "outputs": [
    {
     "name": "stdout",
     "output_type": "stream",
     "text": [
      "enter 1st number: 12\n",
      "enter 2nd number: 24\n",
      "the l.c.m of 12 and 24 is 24\n"
     ]
    }
   ],
   "source": [
    "#1. calculate lcm\n",
    "a= int(input('enter 1st number: '))\n",
    "b= int(input('enter 2nd number: '))\n",
    "if a>b:\n",
    "    d=a\n",
    "else:\n",
    "    d=b\n",
    "while True:\n",
    "    if d%a==0 and d%b==0:\n",
    "        lcm=d\n",
    "        break\n",
    "    d=d+1\n",
    "print('the l.c.m of {} and {} is {}'.format(a,b,lcm))"
   ]
  },
  {
   "cell_type": "code",
   "execution_count": 5,
   "id": "1443cbc2",
   "metadata": {},
   "outputs": [
    {
     "name": "stdout",
     "output_type": "stream",
     "text": [
      "Enter 1st number: 15\n",
      "Enter 2nd number: 12\n",
      "hcf of 15 and 12 is 3\n"
     ]
    }
   ],
   "source": [
    "#2. calculate hcf\n",
    "\n",
    "a = int(input('Enter 1st number: '))\n",
    "b = int(input('Enter 2nd number: '))\n",
    "if a>b:\n",
    "    d=b\n",
    "else:\n",
    "    d=a\n",
    "i=d\n",
    "while i>0:\n",
    "    if b%i==0 and a%i==0:\n",
    "        hcf=i\n",
    "        break\n",
    "    i=i-1\n",
    "print('hcf of {} and {} is {}'.format(a,b,i))"
   ]
  },
  {
   "cell_type": "code",
   "execution_count": 7,
   "id": "2f7f68fa",
   "metadata": {},
   "outputs": [],
   "source": [
    "#3. convert decimal to binary, octal,hexadecimal\n",
    "\n",
    "def conv(n):\n",
    "    return bin(n), oct(n), hex(n)"
   ]
  },
  {
   "cell_type": "code",
   "execution_count": 8,
   "id": "8a51e7b5",
   "metadata": {},
   "outputs": [
    {
     "data": {
      "text/plain": [
       "('0b10111', '0o27', '0x17')"
      ]
     },
     "execution_count": 8,
     "metadata": {},
     "output_type": "execute_result"
    }
   ],
   "source": [
    "conv(23)"
   ]
  },
  {
   "cell_type": "code",
   "execution_count": 14,
   "id": "1ed714fb",
   "metadata": {},
   "outputs": [
    {
     "name": "stdout",
     "output_type": "stream",
     "text": [
      "enter any one charectera\n",
      "ascii value of a is 97\n"
     ]
    }
   ],
   "source": [
    "#4. prigram to give the ascii value\n",
    "\n",
    "a=input('enter any one charecter')\n",
    "b=ord(a)\n",
    "print('ascii value of {} is {}'.format(a,b))"
   ]
  },
  {
   "cell_type": "code",
   "execution_count": 2,
   "id": "0593c14a",
   "metadata": {},
   "outputs": [
    {
     "name": "stdout",
     "output_type": "stream",
     "text": [
      "enter 1st number: 2\n",
      "enter 2nd number: 3\n",
      "Enter 1 for addition\n",
      "Enter 2 for subtraction\n",
      "Enter3 for multiplication\n",
      "Enter 4 for division\n",
      "enter any of 1,2,3,4: 3\n",
      "6\n"
     ]
    }
   ],
   "source": [
    "#5. program to make a simple calculator with 4 math calculation\n",
    "\n",
    "a=int(input('enter 1st number: '))\n",
    "b=int(input('enter 2nd number: '))\n",
    "print('Enter 1 for addition\\nEnter 2 for subtraction\\nEnter3 for multiplication\\nEnter 4 for division')\n",
    "n=int(input('enter any of 1,2,3,4: '))\n",
    "if n==1:\n",
    "    print(a+b)\n",
    "elif n==2:\n",
    "    print(a-b)\n",
    "elif n==3:\n",
    "    print(a*b)\n",
    "elif n==4:\n",
    "    print(a/b)"
   ]
  },
  {
   "cell_type": "code",
   "execution_count": null,
   "id": "37f26d8b",
   "metadata": {},
   "outputs": [],
   "source": []
  }
 ],
 "metadata": {
  "kernelspec": {
   "display_name": "Python 3 (ipykernel)",
   "language": "python",
   "name": "python3"
  },
  "language_info": {
   "codemirror_mode": {
    "name": "ipython",
    "version": 3
   },
   "file_extension": ".py",
   "mimetype": "text/x-python",
   "name": "python",
   "nbconvert_exporter": "python",
   "pygments_lexer": "ipython3",
   "version": "3.9.7"
  }
 },
 "nbformat": 4,
 "nbformat_minor": 5
}
