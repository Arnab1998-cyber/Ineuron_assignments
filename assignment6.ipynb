{
 "cells": [
  {
   "cell_type": "code",
   "execution_count": 2,
   "id": "b9f98857",
   "metadata": {},
   "outputs": [
    {
     "name": "stdout",
     "output_type": "stream",
     "text": [
      " Enter a positive integer: 10\n",
      " The fibonacci sequence is: \n",
      "1,1,2,3,5,8,13,21,34,55,"
     ]
    }
   ],
   "source": [
    "#1. fibonacci sequence using recursion\n",
    "\n",
    "def fibo(n):\n",
    "    if n==1 or n==0:\n",
    "        return n\n",
    "    else:\n",
    "        return fibo(n-1)+fibo(n-2)\n",
    "    \n",
    "n=int(input(' Enter a positive integer: '))\n",
    "print(' The fibonacci sequence is: ')\n",
    "for i in range(1,n+1):\n",
    "    print(fibo(i), end=',')"
   ]
  },
  {
   "cell_type": "code",
   "execution_count": 5,
   "id": "ea970528",
   "metadata": {},
   "outputs": [
    {
     "name": "stdout",
     "output_type": "stream",
     "text": [
      "Enter a positive integer: 5\n",
      "The factorial of 5 is 120\n"
     ]
    }
   ],
   "source": [
    "#2. factorial of number using reccursion\n",
    "\n",
    "def facto(n):\n",
    "    if n==1 or n==0:\n",
    "        return 1\n",
    "    else:\n",
    "        return n*facto(n-1)\n",
    "    \n",
    "n= int(input('Enter a positive integer: '))\n",
    "print('The factorial of {} is {}'.format(n, facto(n)))"
   ]
  },
  {
   "cell_type": "code",
   "execution_count": 6,
   "id": "d763bbb2",
   "metadata": {},
   "outputs": [
    {
     "name": "stdout",
     "output_type": "stream",
     "text": [
      "Enter weight in kg: 63\n",
      "Enter height in meter: 1.74\n",
      "body mass index is  20.808561236623067\n"
     ]
    }
   ],
   "source": [
    "#3. calculate BMI\n",
    "\n",
    "weight = float(input('Enter weight in kg: '))\n",
    "height = float(input('Enter height in meter: '))\n",
    "Bmi = weight/(height**2)\n",
    "print('body mass index is ', Bmi)"
   ]
  },
  {
   "cell_type": "code",
   "execution_count": 1,
   "id": "5162496c",
   "metadata": {},
   "outputs": [
    {
     "name": "stdout",
     "output_type": "stream",
     "text": [
      "enter a positive number: 6\n"
     ]
    },
    {
     "data": {
      "text/plain": [
       "1.791759469228055"
      ]
     },
     "execution_count": 1,
     "metadata": {},
     "output_type": "execute_result"
    }
   ],
   "source": [
    "#4. calculate natural logarithm\n",
    "\n",
    "import math\n",
    "n= float(input(\"enter a positive number: \"))\n",
    "natural_log=math.log(n)\n",
    "natural_log"
   ]
  },
  {
   "cell_type": "code",
   "execution_count": 5,
   "id": "2d94bcb5",
   "metadata": {},
   "outputs": [
    {
     "name": "stdout",
     "output_type": "stream",
     "text": [
      "Enter the natural number: 5\n",
      "cube sum upto 5 is 225\n"
     ]
    }
   ],
   "source": [
    "#5. cube sum of 1st n natural numbers\n",
    "\n",
    "n= int(input('Enter the natural number: '))\n",
    "sum=0\n",
    "for i in range(1,n+1):\n",
    "    sum=sum+i**3\n",
    "print('cube sum upto {} is {}'.format(n, sum))"
   ]
  },
  {
   "cell_type": "code",
   "execution_count": null,
   "id": "b8564be3",
   "metadata": {},
   "outputs": [],
   "source": []
  }
 ],
 "metadata": {
  "kernelspec": {
   "display_name": "Python 3 (ipykernel)",
   "language": "python",
   "name": "python3"
  },
  "language_info": {
   "codemirror_mode": {
    "name": "ipython",
    "version": 3
   },
   "file_extension": ".py",
   "mimetype": "text/x-python",
   "name": "python",
   "nbconvert_exporter": "python",
   "pygments_lexer": "ipython3",
   "version": "3.9.7"
  }
 },
 "nbformat": 4,
 "nbformat_minor": 5
}
