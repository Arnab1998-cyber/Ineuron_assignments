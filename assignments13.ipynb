{
 "cells": [
  {
   "cell_type": "code",
   "execution_count": 8,
   "id": "8978360a",
   "metadata": {},
   "outputs": [
    {
     "name": "stdout",
     "output_type": "stream",
     "text": [
      "enter length of list: 3\n",
      "enter 1th element: 100\n",
      "enter 2th element: 150\n",
      "enter 3th element: 180\n",
      "[100, 150, 180]\n",
      "calculated value is  [18, 22, 24]\n"
     ]
    }
   ],
   "source": [
    "#1. \n",
    "c,h=50,30\n",
    "# a comma seperated sequence is may be list or tuples\n",
    "n=int(input('enter length of list: '))\n",
    "d=[]\n",
    "for i in range(n):\n",
    "    d.append(int(input('enter {}th element: '.format(i+1))))\n",
    "print(d)\n",
    "# calculate square root of[(2*c*d)/h]\n",
    "q=[]\n",
    "for i in range(len(d)):\n",
    "    q.append(int(((2*c*d[i])/h)**0.5))\n",
    "print('calculated value is ', q)"
   ]
  },
  {
   "cell_type": "code",
   "execution_count": 6,
   "id": "6b3febd1",
   "metadata": {},
   "outputs": [
    {
     "name": "stdout",
     "output_type": "stream",
     "text": [
      "row number:3\n",
      "column number:5\n",
      "the two dimensional array is:  [[0, 0, 0, 0, 0], [0, 1, 2, 3, 4], [0, 2, 4, 6, 8]]\n"
     ]
    }
   ],
   "source": [
    "#2. \n",
    "\n",
    "x=int(input('row number:' ))\n",
    "y=int(input('column number:' ))\n",
    "A=[]\n",
    "for i in range(x):\n",
    "    row=[]\n",
    "    for j in range(y):\n",
    "        row.append(i*j)\n",
    "    A.append(row)\n",
    "print('the two dimensional array is: ', A)"
   ]
  },
  {
   "cell_type": "code",
   "execution_count": 9,
   "id": "fc74083f",
   "metadata": {},
   "outputs": [
    {
     "data": {
      "text/plain": [
       "['bag', 'hello', 'without', 'world']"
      ]
     },
     "execution_count": 9,
     "metadata": {},
     "output_type": "execute_result"
    }
   ],
   "source": [
    "#3.\n",
    "\n",
    "l=['without','hello', 'bag', 'world']\n",
    "l.sort()\n",
    "l"
   ]
  },
  {
   "cell_type": "code",
   "execution_count": 14,
   "id": "dbf44c3b",
   "metadata": {},
   "outputs": [
    {
     "name": "stdout",
     "output_type": "stream",
     "text": [
      " again and hello makes perfect practice world\n",
      "the string after operation becomes: again and hello makes perfect practice world\n"
     ]
    }
   ],
   "source": [
    "#4. remove all duplicate words and sort them alphanumerically\n",
    "\n",
    "s = 'hello world and practice makes perfect and hello world again'\n",
    "l=s.split(' ')\n",
    "for i in l:\n",
    "    if l.count(i)>1:\n",
    "        for j in range(l.count(i)-1):\n",
    "            l.remove(i)\n",
    "l.sort()\n",
    "w=''\n",
    "for i in l:\n",
    "    w=w+' '+i\n",
    "print(w)\n",
    "print('the string after operation becomes:{}'.format(w))"
   ]
  },
  {
   "cell_type": "code",
   "execution_count": 20,
   "id": "17febe98",
   "metadata": {},
   "outputs": [
    {
     "name": "stdout",
     "output_type": "stream",
     "text": [
      "Enter a string: Hello World! 123\n",
      "LETTERS:  10\n",
      "DIGITS:  3\n"
     ]
    }
   ],
   "source": [
    "#5. calculate number of letters and numbers in a sentence\n",
    "\n",
    "s=input('Enter a string: ')\n",
    "count=0\n",
    "sum=0\n",
    "for i in s:\n",
    "    if (ord(i)>=65 and ord(i)<=90) or (ord(i)>=97 and ord(i)<=122):\n",
    "        count=count+1\n",
    "    elif i in '1234567890':\n",
    "        sum=sum+1\n",
    "print('LETTERS: ',count)\n",
    "print('DIGITS: ',sum)\n",
    "        "
   ]
  },
  {
   "cell_type": "code",
   "execution_count": 1,
   "id": "60063a0a",
   "metadata": {},
   "outputs": [
    {
     "name": "stdout",
     "output_type": "stream",
     "text": [
      "enter number of password: 4\n",
      "enter 1th password: ABd1234@1\n",
      "enter 2th password: aF1#\n",
      "enter 3th password: 2We3*\n",
      "enter 4th password: 2We3344\n",
      "the list of passwords   ['ABd1234@1', 'aF1#', '2We3*', '2We3344']\n",
      "the valid password is:  ABd1234@1\n"
     ]
    }
   ],
   "source": [
    "#6. validity of password\n",
    "n=int(input('enter number of password: '))\n",
    "w=[]\n",
    "for k in range(n):\n",
    "    w.append(input('enter {}th password: '.format(k+1)))\n",
    "print('the list of passwords  ', w)\n",
    "for i in w:\n",
    "    d,e,f,g=0,0,0,0\n",
    "    if len(i)>=6 and len(i)<=12:\n",
    "        for j  in i:\n",
    "            if j.isdigit():\n",
    "                d=d+1\n",
    "            if j in ['$', '#', '@']:\n",
    "                e=e+1\n",
    "            if j.isupper():\n",
    "                f=f+1\n",
    "            if j.islower():\n",
    "                g=g+1\n",
    "        if d>=1:\n",
    "            if e>=1:\n",
    "                if f>=1:\n",
    "                    if g>=1:\n",
    "                        print('the valid password is: ',i)\n"
   ]
  },
  {
   "cell_type": "code",
   "execution_count": 60,
   "id": "083cc22c",
   "metadata": {},
   "outputs": [
    {
     "data": {
      "text/plain": [
       "1"
      ]
     },
     "execution_count": 60,
     "metadata": {},
     "output_type": "execute_result"
    }
   ],
   "source": []
  },
  {
   "cell_type": "code",
   "execution_count": null,
   "id": "7ebea456",
   "metadata": {},
   "outputs": [],
   "source": []
  }
 ],
 "metadata": {
  "kernelspec": {
   "display_name": "Python 3 (ipykernel)",
   "language": "python",
   "name": "python3"
  },
  "language_info": {
   "codemirror_mode": {
    "name": "ipython",
    "version": 3
   },
   "file_extension": ".py",
   "mimetype": "text/x-python",
   "name": "python",
   "nbconvert_exporter": "python",
   "pygments_lexer": "ipython3",
   "version": "3.9.7"
  }
 },
 "nbformat": 4,
 "nbformat_minor": 5
}
