{
 "cells": [
  {
   "cell_type": "code",
   "execution_count": 1,
   "id": "c87b6df4",
   "metadata": {},
   "outputs": [],
   "source": [
    "#1. function that takes a list of non negetive integers and strings and return list of integers\n",
    "\n",
    "def filter_list(l):\n",
    "    m=[]\n",
    "    for i in l:\n",
    "        if type(i)==int:\n",
    "            if int(i)>=0:\n",
    "                m.append(i)\n",
    "    return m"
   ]
  },
  {
   "cell_type": "code",
   "execution_count": 2,
   "id": "3c0b2bdd",
   "metadata": {},
   "outputs": [
    {
     "data": {
      "text/plain": [
       "[5, 0, 4]"
      ]
     },
     "execution_count": 2,
     "metadata": {},
     "output_type": "execute_result"
    }
   ],
   "source": [
    "filter_list(['abc', -87, 5, 0, 4, '34'])"
   ]
  },
  {
   "cell_type": "code",
   "execution_count": 5,
   "id": "15f090ed",
   "metadata": {},
   "outputs": [],
   "source": [
    "#2. reverser takes a string and reverse that and returns it in opposite case\n",
    "\n",
    "def reverser(string):\n",
    "    s=string\n",
    "    s=s.swapcase()\n",
    "    s1=''\n",
    "    for i in range(1,len(s)+1):\n",
    "        s1=s1+s[-i]\n",
    "    return s1"
   ]
  },
  {
   "cell_type": "code",
   "execution_count": 6,
   "id": "a62c6117",
   "metadata": {},
   "outputs": [
    {
     "data": {
      "text/plain": [
       "'DLROw Olleh'"
      ]
     },
     "execution_count": 6,
     "metadata": {},
     "output_type": "execute_result"
    }
   ],
   "source": [
    "reverser('HELLo World')"
   ]
  },
  {
   "cell_type": "code",
   "execution_count": 11,
   "id": "72d96a77",
   "metadata": {},
   "outputs": [
    {
     "name": "stdout",
     "output_type": "stream",
     "text": [
      "the lists are: \n",
      "w\n",
      "['r', 'i', 't', 'e', 'y', 'o', 'u', 'r', 'c', 'o', 'd', 'e', 'h', 'e', 'r']\n",
      "e\n"
     ]
    }
   ],
   "source": [
    "#3. unpack the given list in three parts: 1st, middle, last\n",
    "\n",
    "s='writeyourcodehere'\n",
    "l=list(s)\n",
    "first=[]\n",
    "middle=[]\n",
    "last=[]\n",
    "first=l[0]\n",
    "middle=l[1:-1]\n",
    "last=l[-1]\n",
    "print('the lists are: ')\n",
    "print(first)\n",
    "print(middle)\n",
    "print(last)"
   ]
  },
  {
   "cell_type": "code",
   "execution_count": 12,
   "id": "296327c4",
   "metadata": {},
   "outputs": [],
   "source": [
    "#4. factorial number recursively\n",
    "\n",
    "# done in previous assignment"
   ]
  },
  {
   "cell_type": "code",
   "execution_count": 13,
   "id": "3c865989",
   "metadata": {},
   "outputs": [],
   "source": [
    "#5. function that moves all elements of one type to the end of the list\n",
    "\n",
    "def move_to_end(l, n):\n",
    "    m=l.count(n)\n",
    "    for i in range(m):\n",
    "        l.remove(n)\n",
    "        l.append(n)\n",
    "    return l\n",
    "            "
   ]
  },
  {
   "cell_type": "code",
   "execution_count": 14,
   "id": "3a1d9f06",
   "metadata": {},
   "outputs": [
    {
     "data": {
      "text/plain": [
       "[3, 2, 4, 4, 1, 1]"
      ]
     },
     "execution_count": 14,
     "metadata": {},
     "output_type": "execute_result"
    }
   ],
   "source": [
    "move_to_end([1,3,2,4,4,1], 1)"
   ]
  },
  {
   "cell_type": "code",
   "execution_count": 15,
   "id": "d97dbf44",
   "metadata": {},
   "outputs": [
    {
     "data": {
      "text/plain": [
       "['b', 'a', 'a', 'a']"
      ]
     },
     "execution_count": 15,
     "metadata": {},
     "output_type": "execute_result"
    }
   ],
   "source": [
    "move_to_end(['a', 'a', 'a', 'b'], 'a')"
   ]
  },
  {
   "cell_type": "code",
   "execution_count": null,
   "id": "5a66c74a",
   "metadata": {},
   "outputs": [],
   "source": []
  }
 ],
 "metadata": {
  "kernelspec": {
   "display_name": "Python 3 (ipykernel)",
   "language": "python",
   "name": "python3"
  },
  "language_info": {
   "codemirror_mode": {
    "name": "ipython",
    "version": 3
   },
   "file_extension": ".py",
   "mimetype": "text/x-python",
   "name": "python",
   "nbconvert_exporter": "python",
   "pygments_lexer": "ipython3",
   "version": "3.9.7"
  }
 },
 "nbformat": 4,
 "nbformat_minor": 5
}
