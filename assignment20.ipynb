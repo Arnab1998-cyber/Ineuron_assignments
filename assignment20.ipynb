{
 "cells": [
  {
   "cell_type": "code",
   "execution_count": 1,
   "id": "a88be142",
   "metadata": {},
   "outputs": [],
   "source": [
    "#1. function that takes list of strigs and integers and returns list of integers only\n",
    "\n",
    "def filter_list(l):\n",
    "    m=[]\n",
    "    for i in l:\n",
    "        if type(i)==int:\n",
    "            m.append(i)\n",
    "    return m"
   ]
  },
  {
   "cell_type": "code",
   "execution_count": 2,
   "id": "c60dbd5d",
   "metadata": {},
   "outputs": [
    {
     "data": {
      "text/plain": [
       "[1, 2, 3]"
      ]
     },
     "execution_count": 2,
     "metadata": {},
     "output_type": "execute_result"
    }
   ],
   "source": [
    "filter_list([1,2,3,'a', 'b', '1'])"
   ]
  },
  {
   "cell_type": "code",
   "execution_count": 3,
   "id": "3da6c7bb",
   "metadata": {},
   "outputs": [],
   "source": [
    "#2. add indexes to the elements of list\n",
    "\n",
    "def add_indexes(l):\n",
    "    m=[]\n",
    "    for i in range(len(l)):\n",
    "        m.append(l[i]+i)\n",
    "    return m"
   ]
  },
  {
   "cell_type": "code",
   "execution_count": 4,
   "id": "350df320",
   "metadata": {},
   "outputs": [
    {
     "data": {
      "text/plain": [
       "[0, 1, 2, 3, 4]"
      ]
     },
     "execution_count": 4,
     "metadata": {},
     "output_type": "execute_result"
    }
   ],
   "source": [
    "add_indexes([0,0,0,0,0])"
   ]
  },
  {
   "cell_type": "code",
   "execution_count": 6,
   "id": "affcfd59",
   "metadata": {},
   "outputs": [],
   "source": [
    "#3. volume of a cone\n",
    "\n",
    "def cone_volume(h,r):\n",
    "    return round((1/3)*(22/7)*(r*r)*h, 2)"
   ]
  },
  {
   "cell_type": "code",
   "execution_count": 7,
   "id": "bf697363",
   "metadata": {},
   "outputs": [
    {
     "data": {
      "text/plain": [
       "12.57"
      ]
     },
     "execution_count": 7,
     "metadata": {},
     "output_type": "execute_result"
    }
   ],
   "source": [
    "cone_volume(3,2)"
   ]
  },
  {
   "cell_type": "code",
   "execution_count": 10,
   "id": "d45c203b",
   "metadata": {},
   "outputs": [],
   "source": [
    "#4. get trianguler number at n th\n",
    "\n",
    "def get_triangular(n):\n",
    "    i,j=1,1\n",
    "    m=[]\n",
    "    for k in range(1,n+1):\n",
    "        m.append(i)\n",
    "        j=j+1\n",
    "        i=i+j\n",
    "    return m[-1]"
   ]
  },
  {
   "cell_type": "code",
   "execution_count": 11,
   "id": "ed1fee58",
   "metadata": {},
   "outputs": [
    {
     "data": {
      "text/plain": [
       "1"
      ]
     },
     "execution_count": 11,
     "metadata": {},
     "output_type": "execute_result"
    }
   ],
   "source": [
    "get_triangular(1)"
   ]
  },
  {
   "cell_type": "code",
   "execution_count": 12,
   "id": "05253275",
   "metadata": {},
   "outputs": [
    {
     "data": {
      "text/plain": [
       "23220"
      ]
     },
     "execution_count": 12,
     "metadata": {},
     "output_type": "execute_result"
    }
   ],
   "source": [
    "get_triangular(215)"
   ]
  },
  {
   "cell_type": "code",
   "execution_count": 13,
   "id": "193233c2",
   "metadata": {},
   "outputs": [],
   "source": [
    "#5. creating a list which takes numbers between 1 to 10 with a missing number, and returns that number\n",
    "\n",
    "def missing_num(l):\n",
    "    for i in range(1,11):\n",
    "        if i not in l:\n",
    "            return i"
   ]
  },
  {
   "cell_type": "code",
   "execution_count": 14,
   "id": "cffa7e94",
   "metadata": {},
   "outputs": [
    {
     "data": {
      "text/plain": [
       "4"
      ]
     },
     "execution_count": 14,
     "metadata": {},
     "output_type": "execute_result"
    }
   ],
   "source": [
    "missing_num([1,2,3,5,6,7,8,9,10])"
   ]
  },
  {
   "cell_type": "code",
   "execution_count": 15,
   "id": "dc8debe3",
   "metadata": {},
   "outputs": [
    {
     "data": {
      "text/plain": [
       "10"
      ]
     },
     "execution_count": 15,
     "metadata": {},
     "output_type": "execute_result"
    }
   ],
   "source": [
    "missing_num([7,2,3,6,5,9,1,4,8])"
   ]
  },
  {
   "cell_type": "code",
   "execution_count": null,
   "id": "1c7b07bf",
   "metadata": {},
   "outputs": [],
   "source": []
  }
 ],
 "metadata": {
  "kernelspec": {
   "display_name": "Python 3 (ipykernel)",
   "language": "python",
   "name": "python3"
  },
  "language_info": {
   "codemirror_mode": {
    "name": "ipython",
    "version": 3
   },
   "file_extension": ".py",
   "mimetype": "text/x-python",
   "name": "python",
   "nbconvert_exporter": "python",
   "pygments_lexer": "ipython3",
   "version": "3.9.7"
  }
 },
 "nbformat": 4,
 "nbformat_minor": 5
}
