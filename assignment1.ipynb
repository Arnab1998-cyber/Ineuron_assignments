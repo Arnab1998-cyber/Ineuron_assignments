{
 "cells": [
  {
   "cell_type": "code",
   "execution_count": 1,
   "id": "206bcc41",
   "metadata": {},
   "outputs": [
    {
     "name": "stdout",
     "output_type": "stream",
     "text": [
      "Hello Python\n"
     ]
    }
   ],
   "source": [
    "#1. program to print Hello Python\n",
    "\n",
    "print('Hello Python')"
   ]
  },
  {
   "cell_type": "code",
   "execution_count": 2,
   "id": "1b3dfd11",
   "metadata": {},
   "outputs": [],
   "source": [
    "#2. python program to do addition and division\n",
    "\n",
    "def addition(x,y):\n",
    "    return x+y\n",
    "\n",
    "def division(x,y):\n",
    "    return x/y"
   ]
  },
  {
   "cell_type": "code",
   "execution_count": 4,
   "id": "8a4dc07a",
   "metadata": {},
   "outputs": [
    {
     "name": "stdout",
     "output_type": "stream",
     "text": [
      "5\n",
      "2.0\n"
     ]
    }
   ],
   "source": [
    "print(addition(2,3))\n",
    "print(division(4,2))"
   ]
  },
  {
   "cell_type": "code",
   "execution_count": 5,
   "id": "7534f093",
   "metadata": {},
   "outputs": [],
   "source": [
    "#3. find the area of a traiangle\n",
    "\n",
    "def area(a,b,c):\n",
    "    s =(a+b+c)/2\n",
    "    A = (s*(s-a)*(s-b)*(s-c))**0.5\n",
    "    return A"
   ]
  },
  {
   "cell_type": "code",
   "execution_count": 6,
   "id": "470fd5d0",
   "metadata": {},
   "outputs": [
    {
     "data": {
      "text/plain": [
       "2.9047375096555625"
      ]
     },
     "execution_count": 6,
     "metadata": {},
     "output_type": "execute_result"
    }
   ],
   "source": [
    "area(2,3,4)"
   ]
  },
  {
   "cell_type": "code",
   "execution_count": 8,
   "id": "064cc24b",
   "metadata": {},
   "outputs": [
    {
     "name": "stdout",
     "output_type": "stream",
     "text": [
      "3 2\n"
     ]
    }
   ],
   "source": [
    "#4. swap two variables\n",
    "\n",
    "a=2\n",
    "b=3\n",
    "temp=a\n",
    "a=b\n",
    "b=temp\n",
    "print(a,b)"
   ]
  },
  {
   "cell_type": "code",
   "execution_count": 11,
   "id": "4fa80700",
   "metadata": {},
   "outputs": [
    {
     "name": "stdout",
     "output_type": "stream",
     "text": [
      "6\n"
     ]
    }
   ],
   "source": [
    "#5. genarate a random number\n",
    "\n",
    "import random\n",
    "print(random.randint(0,9))"
   ]
  },
  {
   "cell_type": "code",
   "execution_count": null,
   "id": "cc359750",
   "metadata": {},
   "outputs": [],
   "source": []
  }
 ],
 "metadata": {
  "kernelspec": {
   "display_name": "Python 3 (ipykernel)",
   "language": "python",
   "name": "python3"
  },
  "language_info": {
   "codemirror_mode": {
    "name": "ipython",
    "version": 3
   },
   "file_extension": ".py",
   "mimetype": "text/x-python",
   "name": "python",
   "nbconvert_exporter": "python",
   "pygments_lexer": "ipython3",
   "version": "3.9.7"
  }
 },
 "nbformat": 4,
 "nbformat_minor": 5
}
