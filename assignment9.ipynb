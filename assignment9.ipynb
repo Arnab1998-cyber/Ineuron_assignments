{
 "cells": [
  {
   "cell_type": "code",
   "execution_count": 3,
   "id": "c37b6588",
   "metadata": {},
   "outputs": [
    {
     "name": "stdout",
     "output_type": "stream",
     "text": [
      "Enter an integer: 175\n",
      "175 is disarium nember\n"
     ]
    }
   ],
   "source": [
    "#1. check a given number is diserium or not\n",
    "\n",
    "n=int(input('Enter an integer: '))\n",
    "temp=n\n",
    "sum=0\n",
    "while temp>0:\n",
    "    r=temp%10\n",
    "    sum=sum+r**len(str(temp))\n",
    "    temp=temp//10\n",
    "if sum==n:\n",
    "    print('{} is disarium nember'.format(n))\n",
    "else:\n",
    "    print('{} is not disarium number'.format(n))"
   ]
  },
  {
   "cell_type": "code",
   "execution_count": 5,
   "id": "ddea61cc",
   "metadata": {},
   "outputs": [
    {
     "name": "stdout",
     "output_type": "stream",
     "text": [
      "[1, 2, 3, 4, 5, 6, 7, 8, 9, 89]\n"
     ]
    }
   ],
   "source": [
    "#2. print all diserium numbers between 1 and 100\n",
    "\n",
    "l=[]\n",
    "for i in range(1,100):\n",
    "    temp=i\n",
    "    sum=0\n",
    "    while temp>0:\n",
    "        r=temp%10\n",
    "        sum=sum+r**len(str(temp))\n",
    "        temp=temp//10\n",
    "    if sum==i:\n",
    "        l.append(i)\n",
    "print(l)"
   ]
  },
  {
   "cell_type": "code",
   "execution_count": 2,
   "id": "8ad90ca5",
   "metadata": {},
   "outputs": [
    {
     "name": "stdout",
     "output_type": "stream",
     "text": [
      "Enter a number: 23\n",
      "given number is happy number\n"
     ]
    }
   ],
   "source": [
    "#3. check a given number is happy number\n",
    "\n",
    "\n",
    "n= int(input('Enter a number: '))\n",
    "while len(str(n))>1:\n",
    "    temp=n\n",
    "    sum=0\n",
    "    while temp>0:\n",
    "        r=temp%10\n",
    "        sum=sum+r**2\n",
    "        temp=temp//10\n",
    "    n=sum\n",
    "if len(str(n))==1:\n",
    "    if n==1:\n",
    "        print('given number is happy number')\n",
    "    else:\n",
    "        print('given number is not a happy number')"
   ]
  },
  {
   "cell_type": "code",
   "execution_count": 6,
   "id": "c49635da",
   "metadata": {},
   "outputs": [
    {
     "name": "stdout",
     "output_type": "stream",
     "text": [
      "[1, 10, 13, 19, 23, 28, 31, 32, 44, 49, 68, 70, 79, 82, 86, 91, 94, 97, 100]\n"
     ]
    }
   ],
   "source": [
    "#4. happy numbers between 1 and 100\n",
    "\n",
    "L=[]\n",
    "for i in range(101):\n",
    "    n=i\n",
    "    while len(str(n))>1:\n",
    "        temp=n\n",
    "        sum=0\n",
    "        while temp>0:\n",
    "            r=temp%10\n",
    "            sum=sum+r**2\n",
    "            temp=temp//10\n",
    "        n=sum\n",
    "    if len(str(n))==1:\n",
    "        if n==1:\n",
    "            L.append(i)\n",
    "print(L)"
   ]
  },
  {
   "cell_type": "code",
   "execution_count": 8,
   "id": "6bf19b68",
   "metadata": {},
   "outputs": [
    {
     "name": "stdout",
     "output_type": "stream",
     "text": [
      "Enter a number: 156\n",
      "156 is harshad number\n"
     ]
    }
   ],
   "source": [
    "#5. check harshad number\n",
    "\n",
    "n=int(input('Enter a number: '))\n",
    "temp=n\n",
    "sum=0\n",
    "while temp>0:\n",
    "    r=temp%10\n",
    "    sum=sum+r\n",
    "    temp=temp//10\n",
    "if n%sum==0:\n",
    "    print('{} is harshad number'.format(n))\n",
    "else:\n",
    "    print('{} is not a harshad number')"
   ]
  },
  {
   "cell_type": "code",
   "execution_count": 9,
   "id": "1c04f7ab",
   "metadata": {},
   "outputs": [
    {
     "name": "stdout",
     "output_type": "stream",
     "text": [
      "[2, 6, 12, 20, 30, 42, 56, 72, 90]\n"
     ]
    }
   ],
   "source": [
    "#6. print all pronic numbers between 1 to 100\n",
    "\n",
    "L=[]\n",
    "for i in range(1,101):\n",
    "    for j  in range(1,i+1):\n",
    "        if j*(j+1)==i:\n",
    "            L.append(i)\n",
    "            break\n",
    "print(L)"
   ]
  },
  {
   "cell_type": "code",
   "execution_count": null,
   "id": "7472517d",
   "metadata": {},
   "outputs": [],
   "source": []
  }
 ],
 "metadata": {
  "kernelspec": {
   "display_name": "Python 3 (ipykernel)",
   "language": "python",
   "name": "python3"
  },
  "language_info": {
   "codemirror_mode": {
    "name": "ipython",
    "version": 3
   },
   "file_extension": ".py",
   "mimetype": "text/x-python",
   "name": "python",
   "nbconvert_exporter": "python",
   "pygments_lexer": "ipython3",
   "version": "3.9.7"
  }
 },
 "nbformat": 4,
 "nbformat_minor": 5
}
