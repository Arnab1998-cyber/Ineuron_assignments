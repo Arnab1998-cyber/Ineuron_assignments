{
 "cells": [
  {
   "cell_type": "code",
   "execution_count": 4,
   "id": "4de5ceec",
   "metadata": {},
   "outputs": [
    {
     "name": "stdout",
     "output_type": "stream",
     "text": [
      "Enter an integer: 5\n",
      "120\n"
     ]
    }
   ],
   "source": [
    "#1. find the factorial of a nummber\n",
    "\n",
    "n = int(input('Enter an integer: '))\n",
    "multiply=1\n",
    "for i in range(1,n+1):\n",
    "    multiply=multiply*i\n",
    "print(multiply)"
   ]
  },
  {
   "cell_type": "code",
   "execution_count": 7,
   "id": "a00f99f5",
   "metadata": {},
   "outputs": [
    {
     "name": "stdout",
     "output_type": "stream",
     "text": [
      "Enter a positive integer: 5\n",
      "5*0=0\n",
      "5*1=5\n",
      "5*2=10\n",
      "5*3=15\n",
      "5*4=20\n",
      "5*5=25\n",
      "5*6=30\n",
      "5*7=35\n",
      "5*8=40\n",
      "5*9=45\n"
     ]
    }
   ],
   "source": [
    "#2. display multiplication table of an integer\n",
    "\n",
    "n = int(input('Enter a positive integer: '))\n",
    "for i in range(10):\n",
    "    print(\"{}*{}={}\".format(n,i,n*i))"
   ]
  },
  {
   "cell_type": "code",
   "execution_count": 10,
   "id": "87c7ff30",
   "metadata": {},
   "outputs": [
    {
     "name": "stdout",
     "output_type": "stream",
     "text": [
      "Enter term upto which  you want to print the sequence: 5\n",
      "[1, 1, 2, 3, 5]\n"
     ]
    }
   ],
   "source": [
    "#3. print fibonacci sequence\n",
    "\n",
    "n=int(input('Enter term upto which  you want to print the sequence: '))\n",
    "l=[]\n",
    "a=1\n",
    "b=1\n",
    "for i in range(n):\n",
    "    l.append(a)\n",
    "    a,b=b,a+b\n",
    "print(l)"
   ]
  },
  {
   "cell_type": "code",
   "execution_count": 12,
   "id": "d2d43b46",
   "metadata": {},
   "outputs": [
    {
     "name": "stdout",
     "output_type": "stream",
     "text": [
      "Enter the order: 5\n",
      "Enter the  number: 93084\n",
      "93084 is armstrong number\n"
     ]
    }
   ],
   "source": [
    "#4. check armstrong number \n",
    "\n",
    "m=int(input('Enter the order: '))\n",
    "n= int(input('Enter the  number: '))\n",
    "sum=0\n",
    "temp=n\n",
    "while temp>0:\n",
    "    d=temp%10\n",
    "    sum=sum+d**m\n",
    "    temp=temp//10\n",
    "if sum==n:\n",
    "    print('{} is armstrong number'.format(n))\n",
    "else:\n",
    "    print('{} is not armstrong number'.format(n))\n",
    "    "
   ]
  },
  {
   "cell_type": "code",
   "execution_count": 15,
   "id": "12a3fef5",
   "metadata": {},
   "outputs": [
    {
     "name": "stdout",
     "output_type": "stream",
     "text": [
      "enter left side of interval: 1\n",
      "enter right side of interval: 1000\n",
      "the armstrong numbers between 1 and 1000 is [1, 2, 3, 4, 5, 6, 7, 8, 9, 153, 370, 371, 407]\n"
     ]
    }
   ],
   "source": [
    "#5. find armstrong number in the interval\n",
    "\n",
    "a=int(input('enter left side of interval: '))\n",
    "b=int(input('enter right side of interval: '))\n",
    "l=[]\n",
    "for i in range(a,b+1):\n",
    "    m=len(str(i))\n",
    "    sum=0\n",
    "    temp=i\n",
    "    while temp>0 :\n",
    "        d= temp%10\n",
    "        sum=sum+d**m\n",
    "        temp=temp//10\n",
    "    if sum==i:\n",
    "        l.append(i)\n",
    "    else:\n",
    "        pass\n",
    "print('the armstrong numbers between {} and {} is'.format(a,b), l )"
   ]
  },
  {
   "cell_type": "code",
   "execution_count": 18,
   "id": "fcb80c51",
   "metadata": {},
   "outputs": [
    {
     "name": "stdout",
     "output_type": "stream",
     "text": [
      "enter the number upto which we calculate the sum: 12\n",
      "sum is 78\n"
     ]
    }
   ],
   "source": [
    "#6. find the sum of natural numbers upto n\n",
    "\n",
    "n = int(input('enter the number upto which we calculate the sum: '))\n",
    "sum=0\n",
    "for i in range(1,n+1):\n",
    "    sum=sum+i\n",
    "print('sum is {}'.format(sum))"
   ]
  },
  {
   "cell_type": "code",
   "execution_count": null,
   "id": "68c1c5e8",
   "metadata": {},
   "outputs": [],
   "source": []
  }
 ],
 "metadata": {
  "kernelspec": {
   "display_name": "Python 3 (ipykernel)",
   "language": "python",
   "name": "python3"
  },
  "language_info": {
   "codemirror_mode": {
    "name": "ipython",
    "version": 3
   },
   "file_extension": ".py",
   "mimetype": "text/x-python",
   "name": "python",
   "nbconvert_exporter": "python",
   "pygments_lexer": "ipython3",
   "version": "3.9.7"
  }
 },
 "nbformat": 4,
 "nbformat_minor": 5
}
