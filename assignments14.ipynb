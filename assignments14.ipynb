{
 "cells": [
  {
   "cell_type": "code",
   "execution_count": 1,
   "id": "a73e9543",
   "metadata": {},
   "outputs": [],
   "source": [
    "#1. class with generators which can iterate the numbers which are divisible by 7, between 0 and n\n",
    "\n",
    "\n",
    "def get_numbers(n):\n",
    "    for i in range(n+1):\n",
    "        if i%7==0:\n",
    "            yield i\n"
   ]
  },
  {
   "cell_type": "code",
   "execution_count": 4,
   "id": "7f494e43",
   "metadata": {},
   "outputs": [
    {
     "name": "stdout",
     "output_type": "stream",
     "text": [
      "0 7 14 21 28 35 42 49 56 63 70 77 84 91 98 "
     ]
    }
   ],
   "source": [
    "for j in get_numbers(100):\n",
    "    print(j, end=' ')"
   ]
  },
  {
   "cell_type": "code",
   "execution_count": 7,
   "id": "90277738",
   "metadata": {},
   "outputs": [
    {
     "name": "stdout",
     "output_type": "stream",
     "text": [
      "enter a string:  New to Python or choosing between Python 2 and Python 3? Read Python 2 or Python 3.\n",
      "{'2': 2, '3.': 1, '3?': 1, 'New': 1, 'Python': 5, 'Read': 1, 'and': 1, 'between': 1, 'choosing': 1, 'or': 2, 'to': 1}\n"
     ]
    }
   ],
   "source": [
    "#2. compute the frequency of the words in a string\n",
    "\n",
    "s=input('enter a string:  ')\n",
    "l=s.split(' ')\n",
    "l.sort()\n",
    "d={}\n",
    "for i in l:\n",
    "    n=l.count(i)\n",
    "    d[i]=n\n",
    "print(d)\n"
   ]
  },
  {
   "cell_type": "code",
   "execution_count": 8,
   "id": "dffae3e8",
   "metadata": {},
   "outputs": [
    {
     "data": {
      "text/plain": [
       "['2',\n",
       " '2',\n",
       " '3.',\n",
       " '3?',\n",
       " 'New',\n",
       " 'Python',\n",
       " 'Python',\n",
       " 'Python',\n",
       " 'Python',\n",
       " 'Python',\n",
       " 'Read',\n",
       " 'and',\n",
       " 'between',\n",
       " 'choosing',\n",
       " 'or',\n",
       " 'or',\n",
       " 'to']"
      ]
     },
     "execution_count": 8,
     "metadata": {},
     "output_type": "execute_result"
    }
   ],
   "source": [
    "l"
   ]
  },
  {
   "cell_type": "code",
   "execution_count": 11,
   "id": "7846a5b8",
   "metadata": {},
   "outputs": [],
   "source": [
    "#3.\n",
    "\"\"\"define class: person and its two child class male and female. All classes have the method get gender.\n",
    "which print male for male class and female for female class\"\"\"\n",
    "\n",
    "class Person:\n",
    "    def getGender(self):\n",
    "        return self.gender\n",
    "class Male(Person):\n",
    "    def __init__(self):\n",
    "        self.gender=\"Male\"\n",
    "class Female(Person):\n",
    "    def __init__(self):\n",
    "        self.gender='Female'"
   ]
  },
  {
   "cell_type": "code",
   "execution_count": 12,
   "id": "d798a3af",
   "metadata": {},
   "outputs": [
    {
     "name": "stdout",
     "output_type": "stream",
     "text": [
      "Male\n",
      "Female\n"
     ]
    }
   ],
   "source": [
    "gourav=Male()\n",
    "Malati=Female()\n",
    "print(gourav.getGender())\n",
    "print(Malati.getGender())"
   ]
  },
  {
   "cell_type": "code",
   "execution_count": 24,
   "id": "3100c694",
   "metadata": {},
   "outputs": [
    {
     "name": "stdout",
     "output_type": "stream",
     "text": [
      "You  love hockey\n"
     ]
    }
   ],
   "source": [
    "#4. \n",
    "\"\"\"generate all the sentence where subject is in ['I', 'you'], verb is in ['play', 'love']\n",
    "object is in [ 'hockey', 'football']\"\"\"\n",
    "\n",
    "subject=['I', 'You']\n",
    "verb=['play', 'love']\n",
    "object=['hockey', 'football']\n",
    "from random import randint\n",
    "print(subject[randint(0, len(subject)-1)] + \"  \" + verb[randint(0, len(verb)-1)] + \" \"+ object[randint(0, len(object)-1)])"
   ]
  }
 ],
 "metadata": {
  "kernelspec": {
   "display_name": "Python 3 (ipykernel)",
   "language": "python",
   "name": "python3"
  },
  "language_info": {
   "codemirror_mode": {
    "name": "ipython",
    "version": 3
   },
   "file_extension": ".py",
   "mimetype": "text/x-python",
   "name": "python",
   "nbconvert_exporter": "python",
   "pygments_lexer": "ipython3",
   "version": "3.9.7"
  }
 },
 "nbformat": 4,
 "nbformat_minor": 5
}
