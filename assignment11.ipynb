{
 "cells": [
  {
   "cell_type": "code",
   "execution_count": 1,
   "id": "612a3d55",
   "metadata": {},
   "outputs": [],
   "source": [
    "#1. find words which are greater than given length k\n",
    "\n",
    "def find_str(string, k):\n",
    "    l= string.split(' ')\n",
    "    m=[]\n",
    "    for i  in l:\n",
    "        if len(i) > k:\n",
    "            m.append(i)\n",
    "    return m"
   ]
  },
  {
   "cell_type": "code",
   "execution_count": 2,
   "id": "a68b0c73",
   "metadata": {},
   "outputs": [
    {
     "data": {
      "text/plain": [
       "['arnab', 'mitra']"
      ]
     },
     "execution_count": 2,
     "metadata": {},
     "output_type": "execute_result"
    }
   ],
   "source": [
    "find_str('my name is arnab mitra', 4)"
   ]
  },
  {
   "cell_type": "code",
   "execution_count": 19,
   "id": "a90954a2",
   "metadata": {},
   "outputs": [],
   "source": [
    "#2. remove ith charachter from a string\n",
    "\n",
    "def rem_char(string, n):\n",
    "    l=list(string)\n",
    "    for i in range(len(l)):\n",
    "        if i==(n-1):\n",
    "            l.pop(i)\n",
    "    w=''\n",
    "    for j in l:\n",
    "        w=w+j\n",
    "    return w"
   ]
  },
  {
   "cell_type": "code",
   "execution_count": 20,
   "id": "6bf708e6",
   "metadata": {},
   "outputs": [
    {
     "data": {
      "text/plain": [
       "'arnb'"
      ]
     },
     "execution_count": 20,
     "metadata": {},
     "output_type": "execute_result"
    }
   ],
   "source": [
    "rem_char('arnab', 4)"
   ]
  },
  {
   "cell_type": "code",
   "execution_count": 24,
   "id": "cb26826f",
   "metadata": {},
   "outputs": [],
   "source": [
    "#3. split and join a string\n",
    "\n",
    "def split_join_str(string):\n",
    "    l=string.split(' ')\n",
    "    m='-'.join(l)\n",
    "    return m"
   ]
  },
  {
   "cell_type": "code",
   "execution_count": 25,
   "id": "36803e12",
   "metadata": {},
   "outputs": [
    {
     "data": {
      "text/plain": [
       "'hello-world'"
      ]
     },
     "execution_count": 25,
     "metadata": {},
     "output_type": "execute_result"
    }
   ],
   "source": [
    "split_join_str('hello world')"
   ]
  },
  {
   "cell_type": "code",
   "execution_count": 26,
   "id": "5f68efe9",
   "metadata": {},
   "outputs": [],
   "source": [
    "#4. check binary string or not\n",
    "\n",
    "def check_bin_str(string):\n",
    "    l=list(string)\n",
    "    k=0\n",
    "    for i in l:\n",
    "        if i!='0' and i!='1':\n",
    "            print('the string is not binary')\n",
    "            k=1\n",
    "            break\n",
    "    if k==0:\n",
    "        print('the string is binary')\n",
    "    "
   ]
  },
  {
   "cell_type": "code",
   "execution_count": 27,
   "id": "67ad6766",
   "metadata": {},
   "outputs": [
    {
     "name": "stdout",
     "output_type": "stream",
     "text": [
      "the string is not binary\n"
     ]
    }
   ],
   "source": [
    "check_bin_str('arnab')"
   ]
  },
  {
   "cell_type": "code",
   "execution_count": 28,
   "id": "6c87278f",
   "metadata": {},
   "outputs": [
    {
     "name": "stdout",
     "output_type": "stream",
     "text": [
      "the string is binary\n"
     ]
    }
   ],
   "source": [
    "check_bin_str('0010101')"
   ]
  },
  {
   "cell_type": "code",
   "execution_count": 1,
   "id": "3a2b5b16",
   "metadata": {},
   "outputs": [],
   "source": [
    "#5. find uncommon words in two string\n",
    "\n",
    "def uncom_w(str1, str2):\n",
    "    w=[]\n",
    "    l=str1.split(' ')\n",
    "    m=str2.split(' ')\n",
    "    for i in l:\n",
    "        if not i in m:\n",
    "            w.append(i)\n",
    "    for j in m:\n",
    "        if not j in l:\n",
    "            w.append(j)\n",
    "    return w\n",
    "                "
   ]
  },
  {
   "cell_type": "code",
   "execution_count": 2,
   "id": "569e4a20",
   "metadata": {},
   "outputs": [
    {
     "data": {
      "text/plain": [
       "['student', 'boy']"
      ]
     },
     "execution_count": 2,
     "metadata": {},
     "output_type": "execute_result"
    }
   ],
   "source": [
    "uncom_w('class six student', 'class six boy')"
   ]
  },
  {
   "cell_type": "code",
   "execution_count": 9,
   "id": "2a40e1d8",
   "metadata": {},
   "outputs": [],
   "source": [
    "#6. find all duplicate charechters in string\n",
    "def dup_str(string):\n",
    "    w=[]\n",
    "    l=string.split(' ')\n",
    "    for i in l:\n",
    "        if l.count(i) >1:\n",
    "            w.append(i)\n",
    "    s=set(w)\n",
    "    return s"
   ]
  },
  {
   "cell_type": "code",
   "execution_count": 10,
   "id": "fed799bd",
   "metadata": {},
   "outputs": [
    {
     "data": {
      "text/plain": [
       "{'class', 'name', 'six'}"
      ]
     },
     "execution_count": 10,
     "metadata": {},
     "output_type": "execute_result"
    }
   ],
   "source": [
    "dup_str('my name name class class six six')"
   ]
  },
  {
   "cell_type": "code",
   "execution_count": 14,
   "id": "75ca0f0c",
   "metadata": {},
   "outputs": [],
   "source": [
    "#7. check if a string contains any special charecter\n",
    "\n",
    "def check_special(string):\n",
    "    w='~`@#$%^&*()_+<>?/:;'\n",
    "    k=0\n",
    "    for i in string:\n",
    "        if i in w:\n",
    "            k=1\n",
    "    if k==1:\n",
    "        return 'string has special charecters'\n",
    "    else:\n",
    "        return 'string has no special charecter'"
   ]
  },
  {
   "cell_type": "code",
   "execution_count": 15,
   "id": "0ba7ddcb",
   "metadata": {},
   "outputs": [
    {
     "data": {
      "text/plain": [
       "'string has no special charecter'"
      ]
     },
     "execution_count": 15,
     "metadata": {},
     "output_type": "execute_result"
    }
   ],
   "source": [
    "check_special('my name is')"
   ]
  },
  {
   "cell_type": "code",
   "execution_count": null,
   "id": "ec83e644",
   "metadata": {},
   "outputs": [],
   "source": []
  }
 ],
 "metadata": {
  "kernelspec": {
   "display_name": "Python 3 (ipykernel)",
   "language": "python",
   "name": "python3"
  },
  "language_info": {
   "codemirror_mode": {
    "name": "ipython",
    "version": 3
   },
   "file_extension": ".py",
   "mimetype": "text/x-python",
   "name": "python",
   "nbconvert_exporter": "python",
   "pygments_lexer": "ipython3",
   "version": "3.9.7"
  }
 },
 "nbformat": 4,
 "nbformat_minor": 5
}
