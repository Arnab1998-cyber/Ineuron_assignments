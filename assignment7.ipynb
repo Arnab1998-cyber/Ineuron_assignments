{
 "cells": [
  {
   "cell_type": "code",
   "execution_count": 1,
   "id": "f8d777dc",
   "metadata": {},
   "outputs": [
    {
     "name": "stdout",
     "output_type": "stream",
     "text": [
      "15\n"
     ]
    }
   ],
   "source": [
    "#1. program to find the sum of an arrey\n",
    "\n",
    "l=[1,2,3,4,5]\n",
    "sum=0\n",
    "for i in l:\n",
    "    sum=sum+i\n",
    "print(sum)"
   ]
  },
  {
   "cell_type": "code",
   "execution_count": 2,
   "id": "8f31f97b",
   "metadata": {},
   "outputs": [
    {
     "name": "stdout",
     "output_type": "stream",
     "text": [
      "the largest element is  9\n"
     ]
    }
   ],
   "source": [
    "#2. program to find the largest element in arrey\n",
    "\n",
    "l=[1,6,4,7,2,3,4,9,5,3]\n",
    "largest=0\n",
    "for i in l:\n",
    "    if largest<i:\n",
    "        largest=i\n",
    "    else:\n",
    "        pass\n",
    "print('the largest element is ',largest )"
   ]
  },
  {
   "cell_type": "code",
   "execution_count": 10,
   "id": "7db57804",
   "metadata": {},
   "outputs": [],
   "source": [
    "#3. program for array of n elements ratation of order d\n",
    "\n",
    "def rot(l,n,d):\n",
    "    temp=[]\n",
    "    for i in range(d):\n",
    "        temp.append(l[i])\n",
    "    for i in range(n-d):\n",
    "        l[i]=l[(n-d)+i-1]\n",
    "    l[:]=l[0:(n-d)]+temp\n",
    "    return l"
   ]
  },
  {
   "cell_type": "code",
   "execution_count": 12,
   "id": "38963a6a",
   "metadata": {},
   "outputs": [
    {
     "data": {
      "text/plain": [
       "[8, 2, 7, 4, 7, 4, 3, 7, 5]"
      ]
     },
     "execution_count": 12,
     "metadata": {},
     "output_type": "execute_result"
    }
   ],
   "source": [
    "rot([4,3,7,5,8,2,7,4,7], 9,4)"
   ]
  },
  {
   "cell_type": "code",
   "execution_count": 23,
   "id": "68776f05",
   "metadata": {},
   "outputs": [],
   "source": [
    "#4. program to split the array and add the first part to the end\n",
    "\n",
    "def split(l,n):\n",
    "    x=l[0]\n",
    "    for i in range(n-1):\n",
    "        l[i]=l[i+1]\n",
    "    l[n-1]=x\n",
    "    return l\n"
   ]
  },
  {
   "cell_type": "code",
   "execution_count": 24,
   "id": "2d37b113",
   "metadata": {},
   "outputs": [
    {
     "data": {
      "text/plain": [
       "[4, 6, 7, 8, 4, 3, 5]"
      ]
     },
     "execution_count": 24,
     "metadata": {},
     "output_type": "execute_result"
    }
   ],
   "source": [
    "split([5,4,6,7,8,4,3], 7)"
   ]
  },
  {
   "cell_type": "code",
   "execution_count": 26,
   "id": "bc281b71",
   "metadata": {},
   "outputs": [],
   "source": [
    "#5. program to check given array is monotonic\n",
    "\n",
    "def check_mono(l):\n",
    "    k=0\n",
    "    if l[0]<l[1]:\n",
    "        for i in range(len(l)-1):\n",
    "            if l[i]>l[i+1]:\n",
    "                k=1\n",
    "    if l[0]>l[1]:\n",
    "        for i in range(len(l)-1):\n",
    "            if l[i]<l[i+1]:\n",
    "                k=2\n",
    "    if k==0:\n",
    "        print('the given array is monotone')\n",
    "    else:\n",
    "        print('the given array is not monotone')"
   ]
  },
  {
   "cell_type": "code",
   "execution_count": 27,
   "id": "2d860fed",
   "metadata": {},
   "outputs": [
    {
     "name": "stdout",
     "output_type": "stream",
     "text": [
      "the given array is not monotone\n"
     ]
    }
   ],
   "source": [
    "check_mono([2,7,3,4,8,6,9,4,7,8])"
   ]
  },
  {
   "cell_type": "code",
   "execution_count": 28,
   "id": "0e32c9d3",
   "metadata": {},
   "outputs": [
    {
     "name": "stdout",
     "output_type": "stream",
     "text": [
      "the given array is monotone\n"
     ]
    }
   ],
   "source": [
    "check_mono([1,2,3,4,4,5,6,7])"
   ]
  },
  {
   "cell_type": "code",
   "execution_count": 29,
   "id": "d540e338",
   "metadata": {},
   "outputs": [
    {
     "name": "stdout",
     "output_type": "stream",
     "text": [
      "the given array is monotone\n"
     ]
    }
   ],
   "source": [
    "check_mono([8,7,6,5,4,3,2,1,1,1])"
   ]
  },
  {
   "cell_type": "code",
   "execution_count": null,
   "id": "d5dd1e10",
   "metadata": {},
   "outputs": [],
   "source": []
  }
 ],
 "metadata": {
  "kernelspec": {
   "display_name": "Python 3 (ipykernel)",
   "language": "python",
   "name": "python3"
  },
  "language_info": {
   "codemirror_mode": {
    "name": "ipython",
    "version": 3
   },
   "file_extension": ".py",
   "mimetype": "text/x-python",
   "name": "python",
   "nbconvert_exporter": "python",
   "pygments_lexer": "ipython3",
   "version": "3.9.7"
  }
 },
 "nbformat": 4,
 "nbformat_minor": 5
}
