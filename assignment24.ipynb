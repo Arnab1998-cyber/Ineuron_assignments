{
 "cells": [
  {
   "cell_type": "code",
   "execution_count": 2,
   "id": "237c21ef",
   "metadata": {},
   "outputs": [],
   "source": [
    "#1. amplify\n",
    "\n",
    "def amplify(n):\n",
    "    l=[]\n",
    "    for i in range(1, n+1):\n",
    "        if i%4==0:\n",
    "            l.append(i*10)\n",
    "        else:\n",
    "            l.append(i)\n",
    "    return l"
   ]
  },
  {
   "cell_type": "code",
   "execution_count": 3,
   "id": "0b80758b",
   "metadata": {},
   "outputs": [
    {
     "data": {
      "text/plain": [
       "[1, 2, 3, 40]"
      ]
     },
     "execution_count": 3,
     "metadata": {},
     "output_type": "execute_result"
    }
   ],
   "source": [
    "amplify(4)"
   ]
  },
  {
   "cell_type": "code",
   "execution_count": 6,
   "id": "a740d3dc",
   "metadata": {},
   "outputs": [],
   "source": [
    "#2. functionn that takes a list of numbers and return the number which is unique\n",
    "\n",
    "def unique(l):\n",
    "    for i in l:\n",
    "        if l.count(i)==1:\n",
    "            return i"
   ]
  },
  {
   "cell_type": "code",
   "execution_count": 8,
   "id": "5cc62c4d",
   "metadata": {},
   "outputs": [
    {
     "data": {
      "text/plain": [
       "3"
      ]
     },
     "execution_count": 8,
     "metadata": {},
     "output_type": "execute_result"
    }
   ],
   "source": [
    "unique([1,1,1,3,1])"
   ]
  },
  {
   "cell_type": "code",
   "execution_count": 14,
   "id": "4733fd5c",
   "metadata": {},
   "outputs": [],
   "source": [
    "#3. create circle class\n",
    "\n",
    "class circle:\n",
    "    def __init__(self, r):\n",
    "        self.radius=r\n",
    "    def getArea(self):\n",
    "        return round((22/7)*(self.radius)**2, 2)\n",
    "    def getParameter(self):\n",
    "        return round(2*(22/7)*(self.radius), 2)"
   ]
  },
  {
   "cell_type": "code",
   "execution_count": 15,
   "id": "818e8619",
   "metadata": {},
   "outputs": [
    {
     "data": {
      "text/plain": [
       "380.29"
      ]
     },
     "execution_count": 15,
     "metadata": {},
     "output_type": "execute_result"
    }
   ],
   "source": [
    "c=circle(11)\n",
    "c.getArea()"
   ]
  },
  {
   "cell_type": "code",
   "execution_count": 16,
   "id": "4fd07191",
   "metadata": {},
   "outputs": [
    {
     "data": {
      "text/plain": [
       "69.14"
      ]
     },
     "execution_count": 16,
     "metadata": {},
     "output_type": "execute_result"
    }
   ],
   "source": [
    "c.getParameter()"
   ]
  },
  {
   "cell_type": "code",
   "execution_count": 1,
   "id": "fb04d1e1",
   "metadata": {},
   "outputs": [],
   "source": [
    "#4. sort a list by shortest string to longest string\n",
    "\n",
    "def sort_list_len(l):\n",
    "    l.sort(key=len)\n",
    "    return l"
   ]
  },
  {
   "cell_type": "code",
   "execution_count": 2,
   "id": "5e5bca9f",
   "metadata": {},
   "outputs": [
    {
     "data": {
      "text/plain": [
       "['apple', 'google', 'microsoft']"
      ]
     },
     "execution_count": 2,
     "metadata": {},
     "output_type": "execute_result"
    }
   ],
   "source": [
    "sort_list_len(['google', 'apple', 'microsoft'])"
   ]
  },
  {
   "cell_type": "code",
   "execution_count": 3,
   "id": "725f3bb7",
   "metadata": {},
   "outputs": [],
   "source": [
    "#5. check whether three integers are pythagorian triplet\n",
    "\n",
    "def is_triplet(a,b,c):\n",
    "    if a**2+b**2==c**2 or b**2+c**2==a**2 or c**2+a**2==b**2:\n",
    "        return True\n",
    "    else:\n",
    "        return False"
   ]
  },
  {
   "cell_type": "code",
   "execution_count": 4,
   "id": "a9a28626",
   "metadata": {},
   "outputs": [
    {
     "data": {
      "text/plain": [
       "True"
      ]
     },
     "execution_count": 4,
     "metadata": {},
     "output_type": "execute_result"
    }
   ],
   "source": [
    "is_triplet(3,4,5)"
   ]
  },
  {
   "cell_type": "code",
   "execution_count": 5,
   "id": "47e70a95",
   "metadata": {},
   "outputs": [
    {
     "data": {
      "text/plain": [
       "True"
      ]
     },
     "execution_count": 5,
     "metadata": {},
     "output_type": "execute_result"
    }
   ],
   "source": [
    "is_triplet(13,5,12)"
   ]
  },
  {
   "cell_type": "code",
   "execution_count": 6,
   "id": "a9f82b4c",
   "metadata": {},
   "outputs": [
    {
     "data": {
      "text/plain": [
       "False"
      ]
     },
     "execution_count": 6,
     "metadata": {},
     "output_type": "execute_result"
    }
   ],
   "source": [
    "is_triplet(1,3,2)"
   ]
  },
  {
   "cell_type": "code",
   "execution_count": null,
   "id": "95520b8a",
   "metadata": {},
   "outputs": [],
   "source": []
  }
 ],
 "metadata": {
  "kernelspec": {
   "display_name": "Python 3 (ipykernel)",
   "language": "python",
   "name": "python3"
  },
  "language_info": {
   "codemirror_mode": {
    "name": "ipython",
    "version": 3
   },
   "file_extension": ".py",
   "mimetype": "text/x-python",
   "name": "python",
   "nbconvert_exporter": "python",
   "pygments_lexer": "ipython3",
   "version": "3.9.7"
  }
 },
 "nbformat": 4,
 "nbformat_minor": 5
}
