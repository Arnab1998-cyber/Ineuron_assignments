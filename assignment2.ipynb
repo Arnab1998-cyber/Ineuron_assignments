{
 "cells": [
  {
   "cell_type": "code",
   "execution_count": 1,
   "id": "263427bb",
   "metadata": {},
   "outputs": [],
   "source": [
    "#1. convert kilometers to miles\n",
    "\n",
    "def kilo(x):\n",
    "    return (1/1.609)*x"
   ]
  },
  {
   "cell_type": "code",
   "execution_count": 6,
   "id": "fcbbabba",
   "metadata": {},
   "outputs": [
    {
     "data": {
      "text/plain": [
       "1.2430080795525171"
      ]
     },
     "execution_count": 6,
     "metadata": {},
     "output_type": "execute_result"
    }
   ],
   "source": [
    "kilo(2)"
   ]
  },
  {
   "cell_type": "code",
   "execution_count": 7,
   "id": "c024d982",
   "metadata": {},
   "outputs": [],
   "source": [
    "#2. celsius to farenhite\n",
    "\n",
    "def cel(x):\n",
    "    return (9*x)/5+32"
   ]
  },
  {
   "cell_type": "code",
   "execution_count": 8,
   "id": "8a1bac6d",
   "metadata": {},
   "outputs": [
    {
     "data": {
      "text/plain": [
       "33.8"
      ]
     },
     "execution_count": 8,
     "metadata": {},
     "output_type": "execute_result"
    }
   ],
   "source": [
    "cel(1)"
   ]
  },
  {
   "cell_type": "code",
   "execution_count": 13,
   "id": "a73cfac1",
   "metadata": {},
   "outputs": [
    {
     "name": "stdout",
     "output_type": "stream",
     "text": [
      "Enter the year: 2021\n",
      "Enter the month: 10\n",
      "    October 2021\n",
      "Mo Tu We Th Fr Sa Su\n",
      "             1  2  3\n",
      " 4  5  6  7  8  9 10\n",
      "11 12 13 14 15 16 17\n",
      "18 19 20 21 22 23 24\n",
      "25 26 27 28 29 30 31\n",
      "\n"
     ]
    }
   ],
   "source": [
    "#3. program to display calender\n",
    "\n",
    "import calendar\n",
    "x=int(input('Enter the year: '))\n",
    "y=int(input('Enter the month: '))\n",
    "if y>=1 and y<=12:\n",
    "    print(calendar.month(x,y))\n",
    "else:\n",
    "    print('month does not exit')"
   ]
  },
  {
   "cell_type": "code",
   "execution_count": 14,
   "id": "f1d25059",
   "metadata": {},
   "outputs": [
    {
     "name": "stdout",
     "output_type": "stream",
     "text": [
      "1\n",
      "-2\n",
      "1\n",
      "The solutions are 1.0 and 1.0\n"
     ]
    }
   ],
   "source": [
    "#4. solve  quardetic equation\n",
    "\n",
    "# ax^2+bx+c=0, a,b,c are real numbers\n",
    "a= int(input())\n",
    "b= int(input())\n",
    "c= int(input())\n",
    "sol1= (-b+((b**2-(4*a*c))**0.5))/(2*a)\n",
    "sol2=  (-b-((b**2-(4*a*c))**0.5))/(2*a)\n",
    "\n",
    "print(\"The solutions are {} and {}\".format(sol1,sol2))"
   ]
  },
  {
   "cell_type": "code",
   "execution_count": 15,
   "id": "32c33bbd",
   "metadata": {},
   "outputs": [
    {
     "name": "stdout",
     "output_type": "stream",
     "text": [
      "1st variable: 2\n",
      "2nd variable: 3\n",
      "1st variable is  3\n",
      "2nd variable is  2\n"
     ]
    }
   ],
   "source": [
    "#5. swap two variables without temp\n",
    "\n",
    "a=int(input('1st variable: '))\n",
    "b=int(input('2nd variable: '))\n",
    "a,b = b,a\n",
    "print('1st variable is ', a)\n",
    "print('2nd variable is ', b)"
   ]
  },
  {
   "cell_type": "code",
   "execution_count": null,
   "id": "9a902bd6",
   "metadata": {},
   "outputs": [],
   "source": []
  }
 ],
 "metadata": {
  "kernelspec": {
   "display_name": "Python 3 (ipykernel)",
   "language": "python",
   "name": "python3"
  },
  "language_info": {
   "codemirror_mode": {
    "name": "ipython",
    "version": 3
   },
   "file_extension": ".py",
   "mimetype": "text/x-python",
   "name": "python",
   "nbconvert_exporter": "python",
   "pygments_lexer": "ipython3",
   "version": "3.9.7"
  }
 },
 "nbformat": 4,
 "nbformat_minor": 5
}
