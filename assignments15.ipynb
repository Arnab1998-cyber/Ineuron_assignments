{
 "cells": [
  {
   "cell_type": "code",
   "execution_count": 6,
   "id": "f9b1764a",
   "metadata": {},
   "outputs": [],
   "source": [
    "#1. using generator print numbers which is divisible by 5 and 7 between 0 and n\n",
    "\n",
    "\n",
    "def get_num(n):\n",
    "    for i in range(n+1):\n",
    "        if i%5==0 and i%7==0:\n",
    "            yield i\n",
    "    "
   ]
  },
  {
   "cell_type": "code",
   "execution_count": 7,
   "id": "93b99aae",
   "metadata": {},
   "outputs": [
    {
     "name": "stdout",
     "output_type": "stream",
     "text": [
      "0,35,70,"
     ]
    }
   ],
   "source": [
    "for i in get_num(100):\n",
    "    print(i, end=',')"
   ]
  },
  {
   "cell_type": "code",
   "execution_count": 8,
   "id": "0d4138cb",
   "metadata": {},
   "outputs": [],
   "source": [
    "#2. using generator print even numbers between 0 and n in comma seperated value\n",
    "\n",
    "def get_even(n):\n",
    "    for i in range(n+1):\n",
    "        if i%2==0:\n",
    "            yield i"
   ]
  },
  {
   "cell_type": "code",
   "execution_count": 9,
   "id": "b779d9fe",
   "metadata": {},
   "outputs": [
    {
     "name": "stdout",
     "output_type": "stream",
     "text": [
      "0,2,4,6,8,10,"
     ]
    }
   ],
   "source": [
    "for i in get_even(10):\n",
    "    print(i, end=',')"
   ]
  },
  {
   "cell_type": "code",
   "execution_count": 14,
   "id": "b0d825c1",
   "metadata": {},
   "outputs": [
    {
     "name": "stdout",
     "output_type": "stream",
     "text": [
      "enter an positive integer: 7\n",
      "0,1,1,2,3,5,8,13,"
     ]
    }
   ],
   "source": [
    "#3. fibonacci sequence in comma seperated form upto n using list comprehension\n",
    "\n",
    "n=int(input('enter an positive integer: '))\n",
    "l=[0,1]\n",
    "[l.append(l[-1]+l[-2]) for i in range(1, n)]\n",
    "for i in l:\n",
    "    print(i, end=',')"
   ]
  },
  {
   "cell_type": "code",
   "execution_count": 15,
   "id": "060ccb3f",
   "metadata": {},
   "outputs": [
    {
     "name": "stdout",
     "output_type": "stream",
     "text": [
      "enter an email in the given format: john@google.com\n",
      "the name is:  john\n"
     ]
    }
   ],
   "source": [
    "#4. extract user name of a given email address\n",
    "\n",
    "s=input('enter an email in the given format: ')\n",
    "l=s.split('@')\n",
    "print('the name is: ', l[0])"
   ]
  },
  {
   "cell_type": "code",
   "execution_count": 17,
   "id": "84e3c258",
   "metadata": {},
   "outputs": [],
   "source": [
    "#5. \n",
    "\"\"\"class: shape and subclass: square. square has init function which takes length as an argument.\n",
    "both classes have an area function which can print the are. where shape's area is 0 by default\"\"\"\n",
    "\n",
    "class shape:\n",
    "    def get_area(self):\n",
    "        return 0\n",
    "class square(shape):\n",
    "    def __init__(self, a):\n",
    "        self.length=a\n",
    "    def get_area(self):\n",
    "        return a*a"
   ]
  },
  {
   "cell_type": "code",
   "execution_count": 20,
   "id": "3e298bb9",
   "metadata": {},
   "outputs": [
    {
     "ename": "TypeError",
     "evalue": "shape() takes no arguments",
     "output_type": "error",
     "traceback": [
      "\u001b[1;31m---------------------------------------------------------------------------\u001b[0m",
      "\u001b[1;31mTypeError\u001b[0m                                 Traceback (most recent call last)",
      "\u001b[1;32m~\\AppData\\Local\\Temp/ipykernel_4412/2115031661.py\u001b[0m in \u001b[0;36m<module>\u001b[1;34m\u001b[0m\n\u001b[1;32m----> 1\u001b[1;33m \u001b[0ma\u001b[0m\u001b[1;33m=\u001b[0m\u001b[0mshape\u001b[0m\u001b[1;33m(\u001b[0m\u001b[1;36m2\u001b[0m\u001b[1;33m)\u001b[0m\u001b[1;33m\u001b[0m\u001b[1;33m\u001b[0m\u001b[0m\n\u001b[0m\u001b[0;32m      2\u001b[0m \u001b[0ma\u001b[0m\u001b[1;33m.\u001b[0m\u001b[0mget_area\u001b[0m\u001b[1;33m(\u001b[0m\u001b[1;33m)\u001b[0m\u001b[1;33m\u001b[0m\u001b[1;33m\u001b[0m\u001b[0m\n",
      "\u001b[1;31mTypeError\u001b[0m: shape() takes no arguments"
     ]
    }
   ],
   "source": [
    "a=shape(2)\n",
    "a.get_area()"
   ]
  },
  {
   "cell_type": "code",
   "execution_count": null,
   "id": "9d703c31",
   "metadata": {},
   "outputs": [],
   "source": []
  }
 ],
 "metadata": {
  "kernelspec": {
   "display_name": "Python 3 (ipykernel)",
   "language": "python",
   "name": "python3"
  },
  "language_info": {
   "codemirror_mode": {
    "name": "ipython",
    "version": 3
   },
   "file_extension": ".py",
   "mimetype": "text/x-python",
   "name": "python",
   "nbconvert_exporter": "python",
   "pygments_lexer": "ipython3",
   "version": "3.9.7"
  }
 },
 "nbformat": 4,
 "nbformat_minor": 5
}
