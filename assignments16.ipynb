{
 "cells": [
  {
   "cell_type": "code",
   "execution_count": 5,
   "id": "4ce190aa",
   "metadata": {},
   "outputs": [],
   "source": [
    "#1. function that shutters a word\n",
    "\n",
    "def shutter(s):\n",
    "    s1=s[0]+s[1]+'. . . '+s[0]+s[1]+'. . . '+s+'?'\n",
    "    return s1"
   ]
  },
  {
   "cell_type": "code",
   "execution_count": 6,
   "id": "b92270eb",
   "metadata": {},
   "outputs": [
    {
     "data": {
      "text/plain": [
       "'in. . . in. . . incredible?'"
      ]
     },
     "execution_count": 6,
     "metadata": {},
     "output_type": "execute_result"
    }
   ],
   "source": [
    "shutter('incredible')"
   ]
  },
  {
   "cell_type": "code",
   "execution_count": 10,
   "id": "2331944c",
   "metadata": {},
   "outputs": [],
   "source": [
    "#2. function that converts an angle in radian into degree correct upto two decimal\n",
    "\n",
    "def get_angle(n):\n",
    "    import math\n",
    "    return round(math.degrees(n), 2)"
   ]
  },
  {
   "cell_type": "code",
   "execution_count": 11,
   "id": "24f1f309",
   "metadata": {},
   "outputs": [
    {
     "data": {
      "text/plain": [
       "60.0"
      ]
     },
     "execution_count": 11,
     "metadata": {},
     "output_type": "execute_result"
    }
   ],
   "source": [
    "get_angle(math.pi/3)"
   ]
  },
  {
   "cell_type": "code",
   "execution_count": 12,
   "id": "98da2f2e",
   "metadata": {},
   "outputs": [
    {
     "data": {
      "text/plain": [
       "57.3"
      ]
     },
     "execution_count": 12,
     "metadata": {},
     "output_type": "execute_result"
    }
   ],
   "source": [
    "get_angle(1)"
   ]
  },
  {
   "cell_type": "code",
   "execution_count": 13,
   "id": "e4dd72c0",
   "metadata": {},
   "outputs": [],
   "source": [
    "#3. check curzon number\n",
    "\n",
    "def is_curzon(n):\n",
    "    if (1+2**n)%(1+2*n)==0:\n",
    "        return True\n",
    "    else:\n",
    "        return False"
   ]
  },
  {
   "cell_type": "code",
   "execution_count": 14,
   "id": "1e635024",
   "metadata": {},
   "outputs": [
    {
     "data": {
      "text/plain": [
       "True"
      ]
     },
     "execution_count": 14,
     "metadata": {},
     "output_type": "execute_result"
    }
   ],
   "source": [
    "is_curzon(5)"
   ]
  },
  {
   "cell_type": "code",
   "execution_count": 15,
   "id": "43845222",
   "metadata": {},
   "outputs": [
    {
     "data": {
      "text/plain": [
       "False"
      ]
     },
     "execution_count": 15,
     "metadata": {},
     "output_type": "execute_result"
    }
   ],
   "source": [
    "is_curzon(10)"
   ]
  },
  {
   "cell_type": "code",
   "execution_count": 18,
   "id": "88ebe59d",
   "metadata": {},
   "outputs": [],
   "source": [
    "#4. length given. find area of a hexagon\n",
    "\n",
    "def get_area_hexagon(x):\n",
    "    return round(((3*(3**0.5))*x**2)/2, 1)"
   ]
  },
  {
   "cell_type": "code",
   "execution_count": 19,
   "id": "932c78fe",
   "metadata": {},
   "outputs": [
    {
     "data": {
      "text/plain": [
       "10.4"
      ]
     },
     "execution_count": 19,
     "metadata": {},
     "output_type": "execute_result"
    }
   ],
   "source": [
    "get_area_hexagon(2)"
   ]
  },
  {
   "cell_type": "code",
   "execution_count": 20,
   "id": "8b0c0b7a",
   "metadata": {},
   "outputs": [
    {
     "data": {
      "text/plain": [
       "23.4"
      ]
     },
     "execution_count": 20,
     "metadata": {},
     "output_type": "execute_result"
    }
   ],
   "source": [
    "get_area_hexagon(3)"
   ]
  },
  {
   "cell_type": "code",
   "execution_count": 28,
   "id": "caa952db",
   "metadata": {},
   "outputs": [
    {
     "name": "stdout",
     "output_type": "stream",
     "text": [
      "enter binary string: 010101001\n",
      "the string number is:  169\n"
     ]
    }
   ],
   "source": [
    "#5. convert binary string to decimal\n",
    "\n",
    "s=input('enter binary string: ')\n",
    "n=len(s)\n",
    "sum=0\n",
    "for i in range(1,n+1):\n",
    "    sum=sum+int(s[-i])*(2**(i-1))\n",
    "print('the string number is: ', sum)"
   ]
  },
  {
   "cell_type": "code",
   "execution_count": null,
   "id": "a6407549",
   "metadata": {},
   "outputs": [],
   "source": []
  }
 ],
 "metadata": {
  "kernelspec": {
   "display_name": "Python 3 (ipykernel)",
   "language": "python",
   "name": "python3"
  },
  "language_info": {
   "codemirror_mode": {
    "name": "ipython",
    "version": 3
   },
   "file_extension": ".py",
   "mimetype": "text/x-python",
   "name": "python",
   "nbconvert_exporter": "python",
   "pygments_lexer": "ipython3",
   "version": "3.9.7"
  }
 },
 "nbformat": 4,
 "nbformat_minor": 5
}
