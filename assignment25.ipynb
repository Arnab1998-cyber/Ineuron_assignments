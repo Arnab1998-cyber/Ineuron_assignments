{
 "cells": [
  {
   "cell_type": "code",
   "execution_count": 15,
   "id": "87b76d1c",
   "metadata": {},
   "outputs": [],
   "source": [
    "#1. funcction which takes three integers and returns amount of integers which have equal value\n",
    "\n",
    "def equal(a,b,c):\n",
    "    count=0\n",
    "    s=set([a,b,c])\n",
    "    for i in s:\n",
    "        count=count+1\n",
    "    if count==3:\n",
    "        return 0\n",
    "    if count==1:\n",
    "        return 3\n",
    "    else:\n",
    "        return 2\n",
    "    "
   ]
  },
  {
   "cell_type": "code",
   "execution_count": 16,
   "id": "0dc6e7a1",
   "metadata": {},
   "outputs": [
    {
     "data": {
      "text/plain": [
       "0"
      ]
     },
     "execution_count": 16,
     "metadata": {},
     "output_type": "execute_result"
    }
   ],
   "source": [
    "equal(1,2,3)"
   ]
  },
  {
   "cell_type": "code",
   "execution_count": 17,
   "id": "5056df15",
   "metadata": {},
   "outputs": [
    {
     "data": {
      "text/plain": [
       "2"
      ]
     },
     "execution_count": 17,
     "metadata": {},
     "output_type": "execute_result"
    }
   ],
   "source": [
    "equal(1,2,1)"
   ]
  },
  {
   "cell_type": "code",
   "execution_count": 18,
   "id": "683282e0",
   "metadata": {},
   "outputs": [
    {
     "data": {
      "text/plain": [
       "3"
      ]
     },
     "execution_count": 18,
     "metadata": {},
     "output_type": "execute_result"
    }
   ],
   "source": [
    "equal(1,1,1)"
   ]
  },
  {
   "cell_type": "code",
   "execution_count": 21,
   "id": "19e9585f",
   "metadata": {},
   "outputs": [],
   "source": [
    "#2. convert dictionary into key-value tuples\n",
    "\n",
    "def dect_to_list(d):\n",
    "    l=d.items()\n",
    "    m=[]\n",
    "    for i in l:\n",
    "        m.append(i)\n",
    "    return m"
   ]
  },
  {
   "cell_type": "code",
   "execution_count": 22,
   "id": "c6018c32",
   "metadata": {},
   "outputs": [
    {
     "data": {
      "text/plain": [
       "[('d', 2), ('e', 3), ('f', 5)]"
      ]
     },
     "execution_count": 22,
     "metadata": {},
     "output_type": "execute_result"
    }
   ],
   "source": [
    "dect_to_list({'d':2, 'e':3, 'f':5})"
   ]
  },
  {
   "cell_type": "code",
   "execution_count": 25,
   "id": "7f768820",
   "metadata": {},
   "outputs": [],
   "source": [
    "#3. form dictionary with key-value in lower case:uppercase\n",
    "\n",
    "def mapping(l):\n",
    "    d={}\n",
    "    for i in l:\n",
    "        d[i]=i.upper()\n",
    "    return d"
   ]
  },
  {
   "cell_type": "code",
   "execution_count": 26,
   "id": "d6c36616",
   "metadata": {},
   "outputs": [
    {
     "data": {
      "text/plain": [
       "{'p': 'P', 'q': 'Q'}"
      ]
     },
     "execution_count": 26,
     "metadata": {},
     "output_type": "execute_result"
    }
   ],
   "source": [
    "mapping(['p', 'q'])"
   ]
  },
  {
   "cell_type": "code",
   "execution_count": 30,
   "id": "673810a2",
   "metadata": {},
   "outputs": [],
   "source": [
    "#4. function that replace alll vowels with specified vowels\n",
    "\n",
    "def vow_replace(s, a):\n",
    "    vow='aeiouAEIOU'\n",
    "    s1=s\n",
    "    for i in vow:\n",
    "        s1=s1.replace(i, a)\n",
    "    return s1"
   ]
  },
  {
   "cell_type": "code",
   "execution_count": 31,
   "id": "e51ac775",
   "metadata": {},
   "outputs": [
    {
     "data": {
      "text/plain": [
       "'upplus und bununus'"
      ]
     },
     "execution_count": 31,
     "metadata": {},
     "output_type": "execute_result"
    }
   ],
   "source": [
    "vow_replace('apples and bananas', 'u')"
   ]
  },
  {
   "cell_type": "code",
   "execution_count": 38,
   "id": "caad4226",
   "metadata": {},
   "outputs": [],
   "source": [
    "#5. function that capitalise the charechter if it's asccii codde is even\n",
    "\n",
    "def ascii_capital(s):\n",
    "    s1=''\n",
    "    for i in s:\n",
    "        if ord(i)%2==0:\n",
    "            s1=s1+i.upper()\n",
    "        else:\n",
    "            s1=s1+i.lower()\n",
    "    return s1"
   ]
  },
  {
   "cell_type": "code",
   "execution_count": 39,
   "id": "97749220",
   "metadata": {},
   "outputs": [
    {
     "data": {
      "text/plain": [
       "'To Be oR NoT To Be'"
      ]
     },
     "execution_count": 39,
     "metadata": {},
     "output_type": "execute_result"
    }
   ],
   "source": [
    "ascii_capital('to be or not to be')"
   ]
  },
  {
   "cell_type": "code",
   "execution_count": 40,
   "id": "589312f7",
   "metadata": {},
   "outputs": [
    {
     "data": {
      "text/plain": [
       "'oH wHaT a BeauTiFuL moRNiNg'"
      ]
     },
     "execution_count": 40,
     "metadata": {},
     "output_type": "execute_result"
    }
   ],
   "source": [
    "ascii_capital('Oh what a beautiful morning')"
   ]
  },
  {
   "cell_type": "code",
   "execution_count": 41,
   "id": "62dfde37",
   "metadata": {},
   "outputs": [
    {
     "data": {
      "text/plain": [
       "'THe LiTTLe meRmaiD'"
      ]
     },
     "execution_count": 41,
     "metadata": {},
     "output_type": "execute_result"
    }
   ],
   "source": [
    "ascii_capital('THE LITTLE MERMAID')"
   ]
  },
  {
   "cell_type": "code",
   "execution_count": null,
   "id": "f86471c6",
   "metadata": {},
   "outputs": [],
   "source": []
  }
 ],
 "metadata": {
  "kernelspec": {
   "display_name": "Python 3 (ipykernel)",
   "language": "python",
   "name": "python3"
  },
  "language_info": {
   "codemirror_mode": {
    "name": "ipython",
    "version": 3
   },
   "file_extension": ".py",
   "mimetype": "text/x-python",
   "name": "python",
   "nbconvert_exporter": "python",
   "pygments_lexer": "ipython3",
   "version": "3.9.7"
  }
 },
 "nbformat": 4,
 "nbformat_minor": 5
}
