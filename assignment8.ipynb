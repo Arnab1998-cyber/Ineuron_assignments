{
 "cells": [
  {
   "cell_type": "code",
   "execution_count": 1,
   "id": "beb20f98",
   "metadata": {},
   "outputs": [
    {
     "name": "stdout",
     "output_type": "stream",
     "text": [
      "Enter row number: 3\n",
      "Enter column number: 2\n",
      "Enter elements of 1st matrix: \n",
      "1\n",
      "1\n",
      "1\n",
      "1\n",
      "1\n",
      "1\n",
      "[[1, 1], [1, 1], [1, 1]]\n",
      "Enter elements of 2nd matrix: \n",
      "2\n",
      "2\n",
      "2\n",
      "2\n",
      "2\n",
      "2\n",
      "[[2, 2], [2, 2], [2, 2]]\n",
      "The final  matrix is  [[3, 3], [3, 3], [3, 3]]\n"
     ]
    }
   ],
   "source": [
    "#1. add two matrx\n",
    "\n",
    "n=int(input('Enter row number: '))\n",
    "m=int(input('Enter column number: '))\n",
    "A=[]\n",
    "print('Enter elements of 1st matrix: ')\n",
    "for i in range(n):\n",
    "    row=[]\n",
    "    for j in range(m):\n",
    "        row.append(int(input()))\n",
    "    A.append(row)\n",
    "print(A)\n",
    "B=[]\n",
    "print('Enter elements of 2nd matrix: ')\n",
    "for i in range(n):\n",
    "    row=[]\n",
    "    for j in range(m):\n",
    "        row.append(int(input()))\n",
    "    B.append(row)\n",
    "print(B)\n",
    "C=[]\n",
    "for i in range(n):\n",
    "    row=[]\n",
    "    for j in range(m):\n",
    "        row.append(0)\n",
    "    C.append(row)\n",
    "for i in range(n):\n",
    "    for j in range(m):\n",
    "        C[i][j]=A[i][j]+B[i][j]\n",
    "print('The final  matrix is ', C)"
   ]
  },
  {
   "cell_type": "code",
   "execution_count": 1,
   "id": "3d25cdc3",
   "metadata": {},
   "outputs": [
    {
     "name": "stdout",
     "output_type": "stream",
     "text": [
      "Enter row number of 1st matrix: 2\n",
      "Enter column number of 1st matrix and row number of 2nd matrix: 3\n",
      "Enter column number of 2nd matrix: 4\n",
      "enter the elements of 1st matrix: \n",
      "1\n",
      "1\n",
      "1\n",
      "1\n",
      "1\n",
      "1\n",
      "[[1, 1, 1], [1, 1, 1]]\n",
      "enter the elements of 2nd matrix: \n",
      "2\n",
      "2\n",
      "2\n",
      "2\n",
      "2\n",
      "2\n",
      "2\n",
      "2\n",
      "2\n",
      "2\n",
      "2\n",
      "2\n",
      "[[2, 2, 2, 2], [2, 2, 2, 2], [2, 2, 2, 2]]\n",
      "The final matrix is  [[6, 6, 6, 6], [6, 6, 6, 6]]\n"
     ]
    }
   ],
   "source": [
    "#2. multiply two matrix\n",
    "\n",
    "n=int(input('Enter row number of 1st matrix: '))\n",
    "m= int(input('Enter column number of 1st matrix and row number of 2nd matrix: '))\n",
    "p=int(input('Enter column number of 2nd matrix: '))\n",
    "print(\"enter the elements of 1st matrix: \")\n",
    "A=[]\n",
    "for i in range(n):\n",
    "    row=[]\n",
    "    for j in range(m):\n",
    "        row.append(int(input()))\n",
    "    A.append(row)\n",
    "print(A)\n",
    "print('enter the elements of 2nd matrix: ')\n",
    "B=[]\n",
    "for i in range(m):\n",
    "    row=[]\n",
    "    for j in range(p):\n",
    "        row.append(int(input()))\n",
    "    B.append(row)\n",
    "print(B)\n",
    "C=[]\n",
    "for i in range(n):\n",
    "    row=[]\n",
    "    for j in range(p):\n",
    "        row.append(0)\n",
    "    C.append(row)\n",
    "for i in range(n):\n",
    "    for j in range(p):\n",
    "        sum=0\n",
    "        for k in range(m):\n",
    "            C[i][j]=A[i][k]*B[k][j]\n",
    "            sum=sum+C[i][j]\n",
    "        C[i][j]=sum\n",
    "print('The final matrix is ',C)"
   ]
  },
  {
   "cell_type": "code",
   "execution_count": 3,
   "id": "4a494f67",
   "metadata": {},
   "outputs": [
    {
     "name": "stdout",
     "output_type": "stream",
     "text": [
      "Enter the row number: 2\n",
      "Enterthe column number: 3\n",
      "Enter elements of 1st matrix: \n",
      "1\n",
      "2\n",
      "3\n",
      "1\n",
      "2\n",
      "3\n",
      "The matrix is  [[1, 2, 3], [1, 2, 3]]\n",
      "The transpose of the matrix is  [[1, 1], [2, 2], [3, 3]]\n"
     ]
    }
   ],
   "source": [
    "#3. program to transpose of a matrix\n",
    "\n",
    "n=int(input('Enter the row number: '))\n",
    "m=int(input('Enterthe column number: '))\n",
    "A=[]\n",
    "print('Enter elements of 1st matrix: ')\n",
    "for i in range(n):\n",
    "    row=[]\n",
    "    for j in range(m):\n",
    "        row.append(int(input()))\n",
    "    A.append(row)\n",
    "print('The matrix is ', A)\n",
    "C=[]\n",
    "for i in range(m):\n",
    "    row=[]\n",
    "    for j in range(n):\n",
    "        row.append(0)\n",
    "    C.append(row)\n",
    "for i in range(m):\n",
    "    for j in range(n):\n",
    "        C[i][j]=A[j][i]\n",
    "print('The transpose of the matrix is ', C)\n"
   ]
  },
  {
   "cell_type": "code",
   "execution_count": 6,
   "id": "1e9b1eb9",
   "metadata": {},
   "outputs": [
    {
     "name": "stdout",
     "output_type": "stream",
     "text": [
      "enter length of list of strings: 5\n",
      "Arnab\n",
      "Mitra\n",
      "Kumar\n",
      "Data\n",
      "Science\n",
      "['Arnab', 'Mitra', 'Kumar', 'Data', 'Science']\n",
      "['Arnab', 'Data', 'Kumar', 'Mitra', 'Science']\n"
     ]
    }
   ],
   "source": [
    "#4. program to sortwords in algebraic order\n",
    "\n",
    "L=[]\n",
    "n=int(input('enter length of list of strings: '))\n",
    "for i in range(n):\n",
    "    L.append(input())\n",
    "print(L)\n",
    "L.sort()\n",
    "print(L)"
   ]
  },
  {
   "cell_type": "code",
   "execution_count": 9,
   "id": "83e6f441",
   "metadata": {},
   "outputs": [
    {
     "name": "stdout",
     "output_type": "stream",
     "text": [
      "Enter a string: my name a. my age, my all data.\n",
      " my name a my age my all data\n"
     ]
    }
   ],
   "source": [
    "#5. program to remove punctuation from a string\n",
    "\n",
    "s= input('Enter a string: ')\n",
    "punc='~`!@$%^&*_-+=?><.,:;\"\"'\n",
    "string=' '\n",
    "for i in s:\n",
    "    if not i in punc:\n",
    "        string=string+i\n",
    "print(string)"
   ]
  },
  {
   "cell_type": "code",
   "execution_count": null,
   "id": "1711938d",
   "metadata": {},
   "outputs": [],
   "source": []
  }
 ],
 "metadata": {
  "kernelspec": {
   "display_name": "Python 3 (ipykernel)",
   "language": "python",
   "name": "python3"
  },
  "language_info": {
   "codemirror_mode": {
    "name": "ipython",
    "version": 3
   },
   "file_extension": ".py",
   "mimetype": "text/x-python",
   "name": "python",
   "nbconvert_exporter": "python",
   "pygments_lexer": "ipython3",
   "version": "3.9.7"
  }
 },
 "nbformat": 4,
 "nbformat_minor": 5
}
