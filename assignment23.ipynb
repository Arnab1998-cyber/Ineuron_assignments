{
 "cells": [
  {
   "cell_type": "code",
   "execution_count": 4,
   "id": "5857f5d3",
   "metadata": {},
   "outputs": [],
   "source": [
    "#1. check a number symmetrical or not\n",
    "\n",
    "def is_symmetrical(a):\n",
    "    n=str(a)\n",
    "    k=0\n",
    "    for i in range(len(n)):\n",
    "        if n[i]!=n[len(n)-i-1]:\n",
    "            k=1\n",
    "            break\n",
    "    if k==0:\n",
    "        return True\n",
    "    else:\n",
    "        return False"
   ]
  },
  {
   "cell_type": "code",
   "execution_count": 5,
   "id": "06f2a06b",
   "metadata": {},
   "outputs": [
    {
     "data": {
      "text/plain": [
       "False"
      ]
     },
     "execution_count": 5,
     "metadata": {},
     "output_type": "execute_result"
    }
   ],
   "source": [
    "is_symmetrical(12567)"
   ]
  },
  {
   "cell_type": "code",
   "execution_count": 6,
   "id": "962f1757",
   "metadata": {},
   "outputs": [
    {
     "data": {
      "text/plain": [
       "True"
      ]
     },
     "execution_count": 6,
     "metadata": {},
     "output_type": "execute_result"
    }
   ],
   "source": [
    "is_symmetrical(4224)"
   ]
  },
  {
   "cell_type": "code",
   "execution_count": 9,
   "id": "23449c76",
   "metadata": {},
   "outputs": [
    {
     "data": {
      "text/plain": [
       "True"
      ]
     },
     "execution_count": 9,
     "metadata": {},
     "output_type": "execute_result"
    }
   ],
   "source": [
    "is_symmetrical(42324)"
   ]
  },
  {
   "cell_type": "code",
   "execution_count": 24,
   "id": "020d88dd",
   "metadata": {},
   "outputs": [],
   "source": [
    "#2. given a string of numbers separated by comma and space. return the multiplication\n",
    "\n",
    "def multiply_num(s):\n",
    "    s1=s.split(', ')\n",
    "    mul=1\n",
    "    for i in s1:\n",
    "        mul=mul*int(i)\n",
    "    return mul\n",
    "            "
   ]
  },
  {
   "cell_type": "code",
   "execution_count": 25,
   "id": "14554d0e",
   "metadata": {},
   "outputs": [
    {
     "data": {
      "text/plain": [
       "30"
      ]
     },
     "execution_count": 25,
     "metadata": {},
     "output_type": "execute_result"
    }
   ],
   "source": [
    "multiply_num('2, 3, 5')"
   ]
  },
  {
   "cell_type": "code",
   "execution_count": 26,
   "id": "d6d38b17",
   "metadata": {},
   "outputs": [
    {
     "data": {
      "text/plain": [
       "0"
      ]
     },
     "execution_count": 26,
     "metadata": {},
     "output_type": "execute_result"
    }
   ],
   "source": [
    "multiply_num('54, 75, 453, 0')"
   ]
  },
  {
   "cell_type": "code",
   "execution_count": 29,
   "id": "a4607610",
   "metadata": {},
   "outputs": [],
   "source": [
    "#3. function that squares every digit of a number\n",
    "\n",
    "def square_digits(n):\n",
    "    s=str(n)\n",
    "    s1=''\n",
    "    for i in s:\n",
    "        s1=s1+str(int(i)**2)\n",
    "    return int(s1)"
   ]
  },
  {
   "cell_type": "code",
   "execution_count": 30,
   "id": "33562314",
   "metadata": {},
   "outputs": [
    {
     "data": {
      "text/plain": [
       "811181"
      ]
     },
     "execution_count": 30,
     "metadata": {},
     "output_type": "execute_result"
    }
   ],
   "source": [
    "square_digits(9119)"
   ]
  },
  {
   "cell_type": "code",
   "execution_count": 31,
   "id": "bfb12310",
   "metadata": {},
   "outputs": [
    {
     "data": {
      "text/plain": [
       "416649"
      ]
     },
     "execution_count": 31,
     "metadata": {},
     "output_type": "execute_result"
    }
   ],
   "source": [
    "square_digits(2483)"
   ]
  },
  {
   "cell_type": "code",
   "execution_count": 32,
   "id": "31cf6fdf",
   "metadata": {},
   "outputs": [],
   "source": [
    "#4. function that sort a list and remove all duplicate item from it\n",
    "\n",
    "def setify(l):\n",
    "    l.sort()\n",
    "    s=set(l)\n",
    "    m=[]\n",
    "    for i in s:\n",
    "        m.append(i)\n",
    "    return m"
   ]
  },
  {
   "cell_type": "code",
   "execution_count": 33,
   "id": "13028554",
   "metadata": {},
   "outputs": [
    {
     "data": {
      "text/plain": [
       "[1, 3, 5]"
      ]
     },
     "execution_count": 33,
     "metadata": {},
     "output_type": "execute_result"
    }
   ],
   "source": [
    "setify([1,3,3,5,5])"
   ]
  },
  {
   "cell_type": "code",
   "execution_count": 34,
   "id": "9618a62d",
   "metadata": {},
   "outputs": [
    {
     "data": {
      "text/plain": [
       "[4]"
      ]
     },
     "execution_count": 34,
     "metadata": {},
     "output_type": "execute_result"
    }
   ],
   "source": [
    "setify([4,4,4,4])"
   ]
  },
  {
   "cell_type": "code",
   "execution_count": 35,
   "id": "4eaf9bda",
   "metadata": {},
   "outputs": [],
   "source": [
    "#5. find mean of the digits of a number\n",
    "\n",
    "def mean(n):\n",
    "    s=str(n)\n",
    "    sum=0\n",
    "    for i in s:\n",
    "        sum=sum+int(i)\n",
    "    return sum/len(s)"
   ]
  },
  {
   "cell_type": "code",
   "execution_count": 36,
   "id": "5184806a",
   "metadata": {},
   "outputs": [
    {
     "data": {
      "text/plain": [
       "3.0"
      ]
     },
     "execution_count": 36,
     "metadata": {},
     "output_type": "execute_result"
    }
   ],
   "source": [
    "mean(12345)"
   ]
  },
  {
   "cell_type": "code",
   "execution_count": 37,
   "id": "77597612",
   "metadata": {},
   "outputs": [
    {
     "data": {
      "text/plain": [
       "7.25"
      ]
     },
     "execution_count": 37,
     "metadata": {},
     "output_type": "execute_result"
    }
   ],
   "source": [
    "mean(7895)"
   ]
  },
  {
   "cell_type": "code",
   "execution_count": null,
   "id": "d9021968",
   "metadata": {},
   "outputs": [],
   "source": []
  }
 ],
 "metadata": {
  "kernelspec": {
   "display_name": "Python 3 (ipykernel)",
   "language": "python",
   "name": "python3"
  },
  "language_info": {
   "codemirror_mode": {
    "name": "ipython",
    "version": 3
   },
   "file_extension": ".py",
   "mimetype": "text/x-python",
   "name": "python",
   "nbconvert_exporter": "python",
   "pygments_lexer": "ipython3",
   "version": "3.9.7"
  }
 },
 "nbformat": 4,
 "nbformat_minor": 5
}
