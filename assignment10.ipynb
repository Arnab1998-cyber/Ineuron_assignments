{
 "cells": [
  {
   "cell_type": "code",
   "execution_count": 1,
   "id": "c5d83489",
   "metadata": {},
   "outputs": [],
   "source": [
    "#1. sum of all elements in the list\n",
    "\n",
    "def sum_list(l):\n",
    "    sum=0\n",
    "    for i in range(len(l)):\n",
    "        sum=sum+l[i]\n",
    "    return sum"
   ]
  },
  {
   "cell_type": "code",
   "execution_count": 2,
   "id": "c619947c",
   "metadata": {},
   "outputs": [
    {
     "data": {
      "text/plain": [
       "15"
      ]
     },
     "execution_count": 2,
     "metadata": {},
     "output_type": "execute_result"
    }
   ],
   "source": [
    "sum_list([1,2,3,4,5])"
   ]
  },
  {
   "cell_type": "code",
   "execution_count": 3,
   "id": "ae01362f",
   "metadata": {},
   "outputs": [],
   "source": [
    "#2. multiply all numbers in the list\n",
    "\n",
    "def multiply_list(l):\n",
    "    n=1\n",
    "    for i in range(len(l)):\n",
    "        n=n*l[i]\n",
    "    return n"
   ]
  },
  {
   "cell_type": "code",
   "execution_count": 4,
   "id": "90084b46",
   "metadata": {},
   "outputs": [
    {
     "data": {
      "text/plain": [
       "120"
      ]
     },
     "execution_count": 4,
     "metadata": {},
     "output_type": "execute_result"
    }
   ],
   "source": [
    "multiply_list([1,2,3,4,5])"
   ]
  },
  {
   "cell_type": "code",
   "execution_count": 7,
   "id": "c75aadd2",
   "metadata": {},
   "outputs": [],
   "source": [
    "#3. find smallest number in list\n",
    "\n",
    "def smallest_list(l):\n",
    "    s=l[0]\n",
    "    for i in range(len(l)):\n",
    "        if s>l[i]:\n",
    "            s=l[i]\n",
    "    return s"
   ]
  },
  {
   "cell_type": "code",
   "execution_count": 8,
   "id": "04abafa5",
   "metadata": {},
   "outputs": [
    {
     "data": {
      "text/plain": [
       "2"
      ]
     },
     "execution_count": 8,
     "metadata": {},
     "output_type": "execute_result"
    }
   ],
   "source": [
    "smallest_list([6,9,4,7,9,8,2,4,6])"
   ]
  },
  {
   "cell_type": "code",
   "execution_count": 11,
   "id": "7dca01bf",
   "metadata": {},
   "outputs": [],
   "source": [
    "#4. find largest element in list\n",
    "\n",
    "def largest_list(l):\n",
    "    s=l[0]\n",
    "    for i in range(len(l)):\n",
    "        if s<l[i]:\n",
    "            s=l[i]\n",
    "    return s"
   ]
  },
  {
   "cell_type": "code",
   "execution_count": 12,
   "id": "553d0f20",
   "metadata": {},
   "outputs": [
    {
     "data": {
      "text/plain": [
       "9"
      ]
     },
     "execution_count": 12,
     "metadata": {},
     "output_type": "execute_result"
    }
   ],
   "source": [
    "largest_list([6,9,4,7,9,8,2,4,6])"
   ]
  },
  {
   "cell_type": "code",
   "execution_count": 21,
   "id": "e6dbae9c",
   "metadata": {},
   "outputs": [],
   "source": [
    "#5. find second largest number in list\n",
    "\n",
    "def sec_largest_list(l):\n",
    "    s=largest_list(l)\n",
    "    n=l.count(s)\n",
    "    for i in range(n):\n",
    "        l.remove(s)\n",
    "    s=largest_list(l)\n",
    "    return s\n",
    "    "
   ]
  },
  {
   "cell_type": "code",
   "execution_count": 23,
   "id": "5eb94bae",
   "metadata": {},
   "outputs": [
    {
     "data": {
      "text/plain": [
       "7"
      ]
     },
     "execution_count": 23,
     "metadata": {},
     "output_type": "execute_result"
    }
   ],
   "source": [
    "l=[4,2,7,5,3,7,5,9,5]\n",
    "sec_largest_list(l)"
   ]
  },
  {
   "cell_type": "code",
   "execution_count": 24,
   "id": "49eace30",
   "metadata": {},
   "outputs": [
    {
     "data": {
      "text/plain": [
       "8"
      ]
     },
     "execution_count": 24,
     "metadata": {},
     "output_type": "execute_result"
    }
   ],
   "source": [
    "sec_largest_list([2,4,1,6,5,9,9,5,8,6,7,9,6,8,2])"
   ]
  },
  {
   "cell_type": "code",
   "execution_count": 25,
   "id": "bd6d5ddb",
   "metadata": {},
   "outputs": [],
   "source": [
    "#6. find N largest elements from the list\n",
    "\n",
    "def n_largest_list(l,n):\n",
    "    m=[]\n",
    "    for i in range(n):\n",
    "        s= largest_list(l)\n",
    "        m.append(s)\n",
    "        a=l.count(s)\n",
    "        for j  in range(a):\n",
    "            l.remove(s)\n",
    "    return m"
   ]
  },
  {
   "cell_type": "code",
   "execution_count": 26,
   "id": "4224d509",
   "metadata": {},
   "outputs": [
    {
     "data": {
      "text/plain": [
       "[9, 8, 7]"
      ]
     },
     "execution_count": 26,
     "metadata": {},
     "output_type": "execute_result"
    }
   ],
   "source": [
    "n_largest_list([6,7,4,9,9,8,7,6,6,3,3,4,5,9,1,2,3], 3)"
   ]
  },
  {
   "cell_type": "code",
   "execution_count": 27,
   "id": "d1c36631",
   "metadata": {},
   "outputs": [],
   "source": [
    "#7. & #8. print all even and odd numbers in alist\n",
    "\n",
    "def even_odd_list(l):\n",
    "    m=[]\n",
    "    n=[]\n",
    "    for i in range(len(l)):\n",
    "        if i%2==0:\n",
    "            m.append(i)\n",
    "        else:\n",
    "            n.append(i)\n",
    "    return m,n\n",
    "        "
   ]
  },
  {
   "cell_type": "code",
   "execution_count": 28,
   "id": "71669845",
   "metadata": {},
   "outputs": [
    {
     "data": {
      "text/plain": [
       "([0, 2, 4, 6, 8], [1, 3, 5, 7])"
      ]
     },
     "execution_count": 28,
     "metadata": {},
     "output_type": "execute_result"
    }
   ],
   "source": [
    "even_odd_list([1,2,3,4,5,6,7,8,9])"
   ]
  },
  {
   "cell_type": "code",
   "execution_count": 36,
   "id": "bbce9795",
   "metadata": {},
   "outputs": [],
   "source": [
    "#9. remove empty list from a list\n",
    "\n",
    "def rem_emp_list(l):\n",
    "    for i  in l:\n",
    "        if type(i)==list:\n",
    "            if len(i)==0:\n",
    "                l.remove(i)\n",
    "    return l"
   ]
  },
  {
   "cell_type": "code",
   "execution_count": 37,
   "id": "3fbfb5e9",
   "metadata": {},
   "outputs": [
    {
     "data": {
      "text/plain": [
       "[[1, 2, 3], 'arnab', 23, [2, 4], 67]"
      ]
     },
     "execution_count": 37,
     "metadata": {},
     "output_type": "execute_result"
    }
   ],
   "source": [
    "rem_emp_list([[1,2,3], 'arnab', 23,[], [2,4], [], 67])"
   ]
  },
  {
   "cell_type": "code",
   "execution_count": 40,
   "id": "0e161251",
   "metadata": {},
   "outputs": [],
   "source": [
    "#10. copying a list\n",
    "\n",
    "def copy_list(l):\n",
    "    m=[]\n",
    "    for i in range(len(l)):\n",
    "        m.append(l[i])\n",
    "    return m"
   ]
  },
  {
   "cell_type": "code",
   "execution_count": 41,
   "id": "5c0d9c95",
   "metadata": {},
   "outputs": [
    {
     "data": {
      "text/plain": [
       "[1, 2, 3, 4]"
      ]
     },
     "execution_count": 41,
     "metadata": {},
     "output_type": "execute_result"
    }
   ],
   "source": [
    "copy_list([1,2,3,4])"
   ]
  },
  {
   "cell_type": "code",
   "execution_count": 42,
   "id": "c2a426b3",
   "metadata": {},
   "outputs": [
    {
     "name": "stdout",
     "output_type": "stream",
     "text": [
      "enter 1th element: 2\n",
      "enter 2th element: 2\n",
      "enter 3th element: 5\n",
      "enter 4th element: 9\n",
      "enter 5th element: 7\n",
      "enter 6th element: 9\n",
      "enter 7th element: 9\n",
      "enter 8th element: 7\n",
      "enter 9th element: 6\n",
      "enter 10th element: 5\n",
      "[2, 2, 5, 9, 7, 9, 9, 7, 6, 5]\n",
      "enter an element from the list: 7\n",
      "number of occurence of 7 is 2\n"
     ]
    }
   ],
   "source": [
    "#11. count occurences of an  element in a list\n",
    "\n",
    "l=[]\n",
    "for i in range(10):\n",
    "    l.append(int(input('enter {}th element: '.format(i+1))))\n",
    "print(l)\n",
    "n=int(input('enter an element from the list: '))\n",
    "sum=0\n",
    "if n in l:\n",
    "    for j in l:\n",
    "        if j==n:\n",
    "            sum=sum+1\n",
    "    print('number of occurence of {} is {}'.format(n, sum))\n",
    "else:\n",
    "    print('{} is not in the list'.format(n))\n"
   ]
  },
  {
   "cell_type": "code",
   "execution_count": null,
   "id": "5c654ce0",
   "metadata": {},
   "outputs": [],
   "source": []
  }
 ],
 "metadata": {
  "kernelspec": {
   "display_name": "Python 3 (ipykernel)",
   "language": "python",
   "name": "python3"
  },
  "language_info": {
   "codemirror_mode": {
    "name": "ipython",
    "version": 3
   },
   "file_extension": ".py",
   "mimetype": "text/x-python",
   "name": "python",
   "nbconvert_exporter": "python",
   "pygments_lexer": "ipython3",
   "version": "3.9.7"
  }
 },
 "nbformat": 4,
 "nbformat_minor": 5
}
