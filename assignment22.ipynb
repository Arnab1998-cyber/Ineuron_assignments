{
 "cells": [
  {
   "cell_type": "code",
   "execution_count": 1,
   "id": "eab92b4c",
   "metadata": {},
   "outputs": [],
   "source": [
    "#1. create list \n",
    "\n",
    "def list_operation(x,y,n):\n",
    "    l=[]\n",
    "    for i in range(x,y+1):\n",
    "        if i%n==0:\n",
    "            l.append(i)\n",
    "    return l"
   ]
  },
  {
   "cell_type": "code",
   "execution_count": 2,
   "id": "8575bc12",
   "metadata": {},
   "outputs": [
    {
     "data": {
      "text/plain": [
       "[3, 6, 9]"
      ]
     },
     "execution_count": 2,
     "metadata": {},
     "output_type": "execute_result"
    }
   ],
   "source": [
    "list_operation(1,10,3)"
   ]
  },
  {
   "cell_type": "code",
   "execution_count": 3,
   "id": "d89192e8",
   "metadata": {},
   "outputs": [
    {
     "data": {
      "text/plain": [
       "[]"
      ]
     },
     "execution_count": 3,
     "metadata": {},
     "output_type": "execute_result"
    }
   ],
   "source": [
    "list_operation(15,20,7)"
   ]
  },
  {
   "cell_type": "code",
   "execution_count": 8,
   "id": "67f4c32d",
   "metadata": {},
   "outputs": [],
   "source": [
    "#2. function that determine if 2nd list is the 1st list shifted to the right by one\n",
    "\n",
    "def simon_says(l):\n",
    "    k=0\n",
    "    for i in l:\n",
    "        n=len(i)\n",
    "    for i in range(1,n):\n",
    "        if l[1][-i]!=l[0][n-i-1]:\n",
    "            k=1\n",
    "            break\n",
    "    if k==0:\n",
    "        return True\n",
    "    else:\n",
    "        return False"
   ]
  },
  {
   "cell_type": "code",
   "execution_count": 9,
   "id": "6e944f12",
   "metadata": {},
   "outputs": [
    {
     "data": {
      "text/plain": [
       "True"
      ]
     },
     "execution_count": 9,
     "metadata": {},
     "output_type": "execute_result"
    }
   ],
   "source": [
    "simon_says([[1,2,3,4,5],[0,1,2,3,4]])"
   ]
  },
  {
   "cell_type": "code",
   "execution_count": 11,
   "id": "cbdb7c7f",
   "metadata": {},
   "outputs": [
    {
     "data": {
      "text/plain": [
       "False"
      ]
     },
     "execution_count": 11,
     "metadata": {},
     "output_type": "execute_result"
    }
   ],
   "source": [
    "simon_says([[1,2,3,4,5], [5,5,1,2,3]])"
   ]
  },
  {
   "cell_type": "code",
   "execution_count": 14,
   "id": "9a073150",
   "metadata": {},
   "outputs": [],
   "source": [
    "#3. function that takes a list of strings, and returns the 1st letter in sorted order\n",
    "\n",
    "def society_name(l):\n",
    "    l.sort()\n",
    "    s=''\n",
    "    for i in l:\n",
    "        s=s+i[0]\n",
    "    return s"
   ]
  },
  {
   "cell_type": "code",
   "execution_count": 15,
   "id": "d8fccadf",
   "metadata": {},
   "outputs": [
    {
     "data": {
      "text/plain": [
       "'AMS'"
      ]
     },
     "execution_count": 15,
     "metadata": {},
     "output_type": "execute_result"
    }
   ],
   "source": [
    "society_name(['Adam', 'Sarah', 'Malcom'])"
   ]
  },
  {
   "cell_type": "code",
   "execution_count": 31,
   "id": "27561d14",
   "metadata": {},
   "outputs": [],
   "source": [
    "#4. check whether a string is isogram or not. (it is not case sensitive)\n",
    "\n",
    "def is_isogram(s):\n",
    "    k=0\n",
    "    for i in s:\n",
    "        if s.count(i)>1:\n",
    "            k=1\n",
    "            break\n",
    "        if i.swapcase() in s:\n",
    "            k=2\n",
    "            break\n",
    "    if k==0:\n",
    "        return True\n",
    "    else:\n",
    "        return False"
   ]
  },
  {
   "cell_type": "code",
   "execution_count": 32,
   "id": "037aa29d",
   "metadata": {},
   "outputs": [
    {
     "data": {
      "text/plain": [
       "False"
      ]
     },
     "execution_count": 32,
     "metadata": {},
     "output_type": "execute_result"
    }
   ],
   "source": [
    "is_isogram('PasSword')"
   ]
  },
  {
   "cell_type": "code",
   "execution_count": 33,
   "id": "d9e6ae02",
   "metadata": {},
   "outputs": [
    {
     "data": {
      "text/plain": [
       "True"
      ]
     },
     "execution_count": 33,
     "metadata": {},
     "output_type": "execute_result"
    }
   ],
   "source": [
    "is_isogram('algorism')"
   ]
  },
  {
   "cell_type": "code",
   "execution_count": 1,
   "id": "e64b021f",
   "metadata": {},
   "outputs": [],
   "source": [
    "#5. function that takes string and returns true or false according to string's elements are in order or not\n",
    "\n",
    "def is_in_order(s):\n",
    "    l=[]\n",
    "    for i in s:\n",
    "        l.append(i)\n",
    "    l.sort()\n",
    "    s1=''\n",
    "    for i in l:\n",
    "        s1=s1+i\n",
    "    s2=''\n",
    "    l.sort(reverse=True)\n",
    "    for i in l:\n",
    "        s2=s2+i\n",
    "    if s==s1 or s==s2:\n",
    "        return True\n",
    "    else:\n",
    "        return False\n",
    "        "
   ]
  },
  {
   "cell_type": "code",
   "execution_count": 2,
   "id": "3782e275",
   "metadata": {},
   "outputs": [
    {
     "data": {
      "text/plain": [
       "False"
      ]
     },
     "execution_count": 2,
     "metadata": {},
     "output_type": "execute_result"
    }
   ],
   "source": [
    "is_in_order('edabit')"
   ]
  },
  {
   "cell_type": "code",
   "execution_count": 3,
   "id": "6f3abc2b",
   "metadata": {},
   "outputs": [
    {
     "data": {
      "text/plain": [
       "True"
      ]
     },
     "execution_count": 3,
     "metadata": {},
     "output_type": "execute_result"
    }
   ],
   "source": [
    "is_in_order('xyzz')"
   ]
  },
  {
   "cell_type": "code",
   "execution_count": 4,
   "id": "cd9e03ef",
   "metadata": {},
   "outputs": [
    {
     "data": {
      "text/plain": [
       "True"
      ]
     },
     "execution_count": 4,
     "metadata": {},
     "output_type": "execute_result"
    }
   ],
   "source": [
    "is_in_order('abd')"
   ]
  },
  {
   "cell_type": "code",
   "execution_count": 5,
   "id": "8adbe29f",
   "metadata": {},
   "outputs": [
    {
     "data": {
      "text/plain": [
       "True"
      ]
     },
     "execution_count": 5,
     "metadata": {},
     "output_type": "execute_result"
    }
   ],
   "source": [
    "is_in_order('dba')"
   ]
  },
  {
   "cell_type": "code",
   "execution_count": 6,
   "id": "c53bb1d0",
   "metadata": {},
   "outputs": [
    {
     "data": {
      "text/plain": [
       "True"
      ]
     },
     "execution_count": 6,
     "metadata": {},
     "output_type": "execute_result"
    }
   ],
   "source": [
    "is_in_order('123')"
   ]
  },
  {
   "cell_type": "code",
   "execution_count": null,
   "id": "d3e8f1f5",
   "metadata": {},
   "outputs": [],
   "source": []
  }
 ],
 "metadata": {
  "kernelspec": {
   "display_name": "Python 3 (ipykernel)",
   "language": "python",
   "name": "python3"
  },
  "language_info": {
   "codemirror_mode": {
    "name": "ipython",
    "version": 3
   },
   "file_extension": ".py",
   "mimetype": "text/x-python",
   "name": "python",
   "nbconvert_exporter": "python",
   "pygments_lexer": "ipython3",
   "version": "3.9.7"
  }
 },
 "nbformat": 4,
 "nbformat_minor": 5
}
