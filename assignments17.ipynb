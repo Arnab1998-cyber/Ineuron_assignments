{
 "cells": [
  {
   "cell_type": "code",
   "execution_count": 1,
   "id": "090f333d",
   "metadata": {},
   "outputs": [],
   "source": [
    "#1. \n",
    "\n",
    "def evenly_divi(a,b,c):\n",
    "    sum=0\n",
    "    for i in range(a,b+1):\n",
    "        if i%c==0:\n",
    "            sum=sum+i\n",
    "    return sum"
   ]
  },
  {
   "cell_type": "code",
   "execution_count": 2,
   "id": "61362bff",
   "metadata": {},
   "outputs": [
    {
     "data": {
      "text/plain": [
       "18"
      ]
     },
     "execution_count": 2,
     "metadata": {},
     "output_type": "execute_result"
    }
   ],
   "source": [
    "evenly_divi(1,10,3)"
   ]
  },
  {
   "cell_type": "code",
   "execution_count": 67,
   "id": "e2bf0272",
   "metadata": {},
   "outputs": [],
   "source": [
    "#2. check inequality expression is correct or not\n",
    "\n",
    "def correct_sign(s):\n",
    "    c=eval(s)\n",
    "    if c==True:\n",
    "        return True\n",
    "    if c==False:\n",
    "        return False"
   ]
  },
  {
   "cell_type": "code",
   "execution_count": 68,
   "id": "51df46cb",
   "metadata": {},
   "outputs": [
    {
     "data": {
      "text/plain": [
       "False"
      ]
     },
     "execution_count": 68,
     "metadata": {},
     "output_type": "execute_result"
    }
   ],
   "source": [
    "correct_sign('3>7>11')"
   ]
  },
  {
   "cell_type": "code",
   "execution_count": 69,
   "id": "8a58fbeb",
   "metadata": {},
   "outputs": [
    {
     "data": {
      "text/plain": [
       "True"
      ]
     },
     "execution_count": 69,
     "metadata": {},
     "output_type": "execute_result"
    }
   ],
   "source": [
    "correct_sign('1<2<6<9>3')"
   ]
  },
  {
   "cell_type": "code",
   "execution_count": 70,
   "id": "4d705650",
   "metadata": {},
   "outputs": [
    {
     "data": {
      "text/plain": [
       "False"
      ]
     },
     "execution_count": 70,
     "metadata": {},
     "output_type": "execute_result"
    }
   ],
   "source": [
    "correct_sign('13>44>33>1')"
   ]
  },
  {
   "cell_type": "code",
   "execution_count": 71,
   "id": "3f11bbbd",
   "metadata": {},
   "outputs": [
    {
     "data": {
      "text/plain": [
       "True"
      ]
     },
     "execution_count": 71,
     "metadata": {},
     "output_type": "execute_result"
    }
   ],
   "source": [
    "correct_sign('1<2<3<4')"
   ]
  },
  {
   "cell_type": "code",
   "execution_count": 74,
   "id": "1b58012d",
   "metadata": {},
   "outputs": [
    {
     "data": {
      "text/plain": [
       "False"
      ]
     },
     "execution_count": 74,
     "metadata": {},
     "output_type": "execute_result"
    }
   ],
   "source": [
    "correct_sign('1<2>3<4')"
   ]
  },
  {
   "cell_type": "code",
   "execution_count": 83,
   "id": "a3ba66f8",
   "metadata": {},
   "outputs": [],
   "source": [
    "#3. function that replace all vowels with specified charecter\n",
    "\n",
    "def replace_vow(string, l):\n",
    "    s=string\n",
    "    for i in 'aeiouAEIOU':\n",
    "        s=s.replace(i, l)\n",
    "    return s"
   ]
  },
  {
   "cell_type": "code",
   "execution_count": 84,
   "id": "5bb5763e",
   "metadata": {},
   "outputs": [
    {
     "data": {
      "text/plain": [
       "'th# ##rdv#k'"
      ]
     },
     "execution_count": 84,
     "metadata": {},
     "output_type": "execute_result"
    }
   ],
   "source": [
    "replace_vow('the aardvak', '#')"
   ]
  },
  {
   "cell_type": "code",
   "execution_count": 85,
   "id": "0b9d1ae2",
   "metadata": {},
   "outputs": [],
   "source": [
    "#4. calculate factorial recursively\n",
    "\n",
    "def facto(n):\n",
    "    if n==0 or n==1:\n",
    "        return 1\n",
    "    else:\n",
    "        return n*facto(n-1)"
   ]
  },
  {
   "cell_type": "code",
   "execution_count": 86,
   "id": "724a83d7",
   "metadata": {},
   "outputs": [
    {
     "data": {
      "text/plain": [
       "120"
      ]
     },
     "execution_count": 86,
     "metadata": {},
     "output_type": "execute_result"
    }
   ],
   "source": [
    "facto(5)"
   ]
  },
  {
   "cell_type": "code",
   "execution_count": 90,
   "id": "6145cee7",
   "metadata": {},
   "outputs": [],
   "source": [
    "#5. calculate hamming distence\n",
    "\n",
    "def hamming_dis(s1, s2):\n",
    "    n=len(s1)\n",
    "    j=0\n",
    "    for i in range(n):\n",
    "        if s1[i]!=s2[i]:\n",
    "            j=j+1\n",
    "    return j"
   ]
  },
  {
   "cell_type": "code",
   "execution_count": 91,
   "id": "230bc5d0",
   "metadata": {},
   "outputs": [
    {
     "data": {
      "text/plain": [
       "5"
      ]
     },
     "execution_count": 91,
     "metadata": {},
     "output_type": "execute_result"
    }
   ],
   "source": [
    "hamming_dis('adobe', 'bodef')"
   ]
  },
  {
   "cell_type": "code",
   "execution_count": 92,
   "id": "d654a6a6",
   "metadata": {},
   "outputs": [
    {
     "data": {
      "text/plain": [
       "1"
      ]
     },
     "execution_count": 92,
     "metadata": {},
     "output_type": "execute_result"
    }
   ],
   "source": [
    "hamming_dis('strong', 'strung')"
   ]
  },
  {
   "cell_type": "code",
   "execution_count": null,
   "id": "95c26eb2",
   "metadata": {},
   "outputs": [],
   "source": []
  }
 ],
 "metadata": {
  "kernelspec": {
   "display_name": "Python 3 (ipykernel)",
   "language": "python",
   "name": "python3"
  },
  "language_info": {
   "codemirror_mode": {
    "name": "ipython",
    "version": 3
   },
   "file_extension": ".py",
   "mimetype": "text/x-python",
   "name": "python",
   "nbconvert_exporter": "python",
   "pygments_lexer": "ipython3",
   "version": "3.9.7"
  }
 },
 "nbformat": 4,
 "nbformat_minor": 5
}
