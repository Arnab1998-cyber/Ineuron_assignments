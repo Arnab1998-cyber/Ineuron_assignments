{
 "cells": [
  {
   "cell_type": "code",
   "execution_count": 2,
   "id": "4d901fdf",
   "metadata": {},
   "outputs": [
    {
     "data": {
      "text/plain": [
       "{2, 3, 4}"
      ]
     },
     "execution_count": 2,
     "metadata": {},
     "output_type": "execute_result"
    }
   ],
   "source": [
    "#1. extract unique values dictionary values\n",
    "\n",
    "d={'a':2, 'b':2, 'c':3, 'd':4, 'e':4, 'f':3}\n",
    "l=d.values()\n",
    "set(l)"
   ]
  },
  {
   "cell_type": "code",
   "execution_count": 4,
   "id": "d261445c",
   "metadata": {},
   "outputs": [
    {
     "name": "stdout",
     "output_type": "stream",
     "text": [
      "('a', 2, 'b', 2, 'c', 3, 'd', 4, 'e', 4, 'f', 3)\n"
     ]
    }
   ],
   "source": [
    "#2. sum of all the items in a dictionary\n",
    "\n",
    "d={'a':2, 'b':2, 'c':3, 'd':4, 'e':4, 'f':3}\n",
    "d1=d.items()\n",
    "sum=()\n",
    "for i in d1:\n",
    "    sum=sum+i\n",
    "print(sum)"
   ]
  },
  {
   "cell_type": "code",
   "execution_count": 9,
   "id": "0b8eb891",
   "metadata": {},
   "outputs": [
    {
     "data": {
      "text/plain": [
       "{'a': [2, 3], 'b': {'ar'}, 'c': 3, 'd': 4, 'e': 4, 'f': 3, 'h': 'funny'}"
      ]
     },
     "execution_count": 9,
     "metadata": {},
     "output_type": "execute_result"
    }
   ],
   "source": [
    "#3. marging two dictionaries\n",
    "\n",
    "d1={'a':2, 'b':2, 'c':3, 'd':4, 'e':4, 'f':3}\n",
    "d2={'a':[2,3], 'b':{'ar'}, 'h':'funny'}\n",
    "d3=d1.copy()\n",
    "d3.update(d2)\n",
    "d3"
   ]
  },
  {
   "cell_type": "code",
   "execution_count": 11,
   "id": "87bb4ab8",
   "metadata": {},
   "outputs": [
    {
     "name": "stdout",
     "output_type": "stream",
     "text": [
      "{'a': 1, 'b': 4, 'c': 5}\n"
     ]
    }
   ],
   "source": [
    "#4. convert key values list to flat dictionaries\n",
    "\n",
    "d=['a',1,'b',4,'c',5]\n",
    "s={}\n",
    "n=len(d)\n",
    "for i in range(0,n,2):\n",
    "    s[d[i]]=d[i+1]\n",
    "print(s)"
   ]
  },
  {
   "cell_type": "code",
   "execution_count": 18,
   "id": "d3decbdc",
   "metadata": {},
   "outputs": [
    {
     "data": {
      "text/plain": [
       "OrderedDict([('d', 7), ('b', 2), ('a', 1), ('c', 3)])"
      ]
     },
     "execution_count": 18,
     "metadata": {},
     "output_type": "execute_result"
    }
   ],
   "source": [
    "#5. insertion at the beginning of the ordered dictionary\n",
    "\n",
    "from collections import OrderedDict\n",
    "d={'b':2, 'a':1, 'c':3}\n",
    "d1=OrderedDict(d)\n",
    "d1.update({'d':7})\n",
    "d1.move_to_end('d', last=False )\n",
    "d1"
   ]
  },
  {
   "cell_type": "code",
   "execution_count": 61,
   "id": "b2abc70b",
   "metadata": {},
   "outputs": [
    {
     "name": "stdout",
     "output_type": "stream",
     "text": [
      "the sorted by key of the dictionary {'b': 2, 'a': 1, 'c': 3} is {'a': 1, 'b': 2, 'c': 3} \n",
      "the sorted by value of the dictionary {'b': 3, 'a': 1, 'c': 3} is {'a': 1, 'b': 3, 'c': 3}\n"
     ]
    }
   ],
   "source": [
    "#7. sort python dictionaries by keys and values\n",
    "\n",
    "# sort by keys\n",
    "d={'b':2, 'a':1, 'c':3}\n",
    "l=d.keys()\n",
    "w=[]\n",
    "for i in l:\n",
    "    w.append(i)\n",
    "w.sort()\n",
    "w\n",
    "s={}\n",
    "for i in w:\n",
    "    s.update({i:d[i]})\n",
    "print('the sorted by key of the dictionary {} is {} '.format(d,s))\n",
    "\n",
    "# sort by values\n",
    "d={'b':3, 'a':1, 'c':3}\n",
    "d1=d.items()\n",
    "d2=sorted(d1, key= lambda i:i[1])\n",
    "print('the sorted by value of the dictionary {} is {}'.format(d, dict(d2)))"
   ]
  },
  {
   "cell_type": "code",
   "execution_count": null,
   "id": "dcec2f65",
   "metadata": {},
   "outputs": [],
   "source": []
  }
 ],
 "metadata": {
  "kernelspec": {
   "display_name": "Python 3 (ipykernel)",
   "language": "python",
   "name": "python3"
  },
  "language_info": {
   "codemirror_mode": {
    "name": "ipython",
    "version": 3
   },
   "file_extension": ".py",
   "mimetype": "text/x-python",
   "name": "python",
   "nbconvert_exporter": "python",
   "pygments_lexer": "ipython3",
   "version": "3.9.7"
  }
 },
 "nbformat": 4,
 "nbformat_minor": 5
}
