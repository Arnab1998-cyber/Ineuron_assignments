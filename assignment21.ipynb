{
 "cells": [
  {
   "cell_type": "code",
   "execution_count": 16,
   "id": "1bc97e83",
   "metadata": {},
   "outputs": [],
   "source": [
    "#1. function tat takes a list and an argument, add the argument to the list at last and remove 1st element\n",
    "\n",
    "def next_in_line(l, a):\n",
    "    try:\n",
    "        l.pop(0)\n",
    "        l.append(a)\n",
    "        return l\n",
    "    except:\n",
    "        return 'no list has been selected'"
   ]
  },
  {
   "cell_type": "code",
   "execution_count": 17,
   "id": "509f64cc",
   "metadata": {},
   "outputs": [
    {
     "data": {
      "text/plain": [
       "[6, 7, 8, 9, 1]"
      ]
     },
     "execution_count": 17,
     "metadata": {},
     "output_type": "execute_result"
    }
   ],
   "source": [
    "next_in_line([5,6,7,8,9], 1)"
   ]
  },
  {
   "cell_type": "code",
   "execution_count": 19,
   "id": "458958af",
   "metadata": {},
   "outputs": [
    {
     "data": {
      "text/plain": [
       "'no list has been selected'"
      ]
     },
     "execution_count": 19,
     "metadata": {},
     "output_type": "execute_result"
    }
   ],
   "source": [
    "next_in_line([], 2)"
   ]
  },
  {
   "cell_type": "code",
   "execution_count": 12,
   "id": "2c8514a4",
   "metadata": {},
   "outputs": [],
   "source": [
    "#2. function that takes list of dictionaries wwith same key and find the sum of budgets\n",
    "\n",
    "def get_budget(l):\n",
    "    try:\n",
    "        sum=0\n",
    "        for i in l:\n",
    "            sum=sum+i['budget']\n",
    "        return 'total budget is {}'.format(sum)\n",
    "    except:\n",
    "        return 'elements of the list are dictionary with same keys,{name, age, budget}'"
   ]
  },
  {
   "cell_type": "code",
   "execution_count": 13,
   "id": "e9720c7e",
   "metadata": {},
   "outputs": [
    {
     "data": {
      "text/plain": [
       "'total budget is 65700'"
      ]
     },
     "execution_count": 13,
     "metadata": {},
     "output_type": "execute_result"
    }
   ],
   "source": [
    "get_budget([{'name':'john', 'age':21, 'budget':23000},\n",
    "           {'name':'steve', 'age':32, 'budget':40000},\n",
    "           {'name':'martin', 'age':16, 'budget':2700}])"
   ]
  },
  {
   "cell_type": "code",
   "execution_count": 14,
   "id": "9ef8c2c5",
   "metadata": {},
   "outputs": [
    {
     "data": {
      "text/plain": [
       "'elements of the list are dictionary with same keys,{name, age, budget}'"
      ]
     },
     "execution_count": 14,
     "metadata": {},
     "output_type": "execute_result"
    }
   ],
   "source": [
    "get_budget([{'name':'john', 'age':21, 'budget':23000},\n",
    "           {'name':'steve', 'age':32, 'budget':40000},\n",
    "           {'name':'martin', 'age':16}])"
   ]
  },
  {
   "cell_type": "code",
   "execution_count": 24,
   "id": "b2a98441",
   "metadata": {},
   "outputs": [],
   "source": [
    "#3. function that takes a string and returns the string in alphabetical order\n",
    "\n",
    "def alphabet_soup(s):\n",
    "    l=[]\n",
    "    for i in s:\n",
    "        l.append(i)\n",
    "    l.sort()\n",
    "    s2=''\n",
    "    for i in l:\n",
    "        s2=s2+i\n",
    "    return s2"
   ]
  },
  {
   "cell_type": "code",
   "execution_count": 25,
   "id": "45dd0bf4",
   "metadata": {},
   "outputs": [
    {
     "data": {
      "text/plain": [
       "'ehllo'"
      ]
     },
     "execution_count": 25,
     "metadata": {},
     "output_type": "execute_result"
    }
   ],
   "source": [
    "alphabet_soup('hello')"
   ]
  },
  {
   "cell_type": "code",
   "execution_count": 26,
   "id": "8873cfe9",
   "metadata": {},
   "outputs": [
    {
     "data": {
      "text/plain": [
       "'abdeit'"
      ]
     },
     "execution_count": 26,
     "metadata": {},
     "output_type": "execute_result"
    }
   ],
   "source": [
    "alphabet_soup('edabit')"
   ]
  },
  {
   "cell_type": "code",
   "execution_count": 32,
   "id": "a4be1784",
   "metadata": {},
   "outputs": [],
   "source": [
    "#4. compound interest\n",
    "\n",
    "def compound_interest(p,t,r,n):\n",
    "    sum=p\n",
    "    for i in range(1, t*n+1):\n",
    "        k=sum*(1/n)*r\n",
    "        sum=sum+k\n",
    "    return round(sum, 2)\n",
    "        "
   ]
  },
  {
   "cell_type": "code",
   "execution_count": 33,
   "id": "80fe7fe7",
   "metadata": {},
   "outputs": [
    {
     "data": {
      "text/plain": [
       "18193.97"
      ]
     },
     "execution_count": 33,
     "metadata": {},
     "output_type": "execute_result"
    }
   ],
   "source": [
    "compound_interest(10000, 10, 0.06, 12)"
   ]
  },
  {
   "cell_type": "code",
   "execution_count": 34,
   "id": "92d431b2",
   "metadata": {},
   "outputs": [
    {
     "data": {
      "text/plain": [
       "15399.26"
      ]
     },
     "execution_count": 34,
     "metadata": {},
     "output_type": "execute_result"
    }
   ],
   "source": [
    "compound_interest(3500, 15, 0.1, 4)"
   ]
  },
  {
   "cell_type": "code",
   "execution_count": 36,
   "id": "56a47631",
   "metadata": {},
   "outputs": [],
   "source": [
    "#5. a function that takes a list of elements and returns only ontegers\n",
    "\n",
    "def filter_list(l):\n",
    "    m=[]\n",
    "    for i in l:\n",
    "        if type(i)==int:\n",
    "            m.append(i)\n",
    "    return m"
   ]
  },
  {
   "cell_type": "code",
   "execution_count": 37,
   "id": "e0e55e67",
   "metadata": {},
   "outputs": [
    {
     "data": {
      "text/plain": [
       "[1, 2, 3]"
      ]
     },
     "execution_count": 37,
     "metadata": {},
     "output_type": "execute_result"
    }
   ],
   "source": [
    "filter_list([1,2,3,'a', 'b', '1'])"
   ]
  },
  {
   "cell_type": "code",
   "execution_count": null,
   "id": "86781460",
   "metadata": {},
   "outputs": [],
   "source": []
  }
 ],
 "metadata": {
  "kernelspec": {
   "display_name": "Python 3 (ipykernel)",
   "language": "python",
   "name": "python3"
  },
  "language_info": {
   "codemirror_mode": {
    "name": "ipython",
    "version": 3
   },
   "file_extension": ".py",
   "mimetype": "text/x-python",
   "name": "python",
   "nbconvert_exporter": "python",
   "pygments_lexer": "ipython3",
   "version": "3.9.7"
  }
 },
 "nbformat": 4,
 "nbformat_minor": 5
}
