{
 "cells": [
  {
   "cell_type": "code",
   "execution_count": 3,
   "id": "3753e792",
   "metadata": {},
   "outputs": [],
   "source": [
    "#1. function which return a string with each charechter repeted once\n",
    "\n",
    "def repet_ch(s):\n",
    "    s1=''\n",
    "    for i in s:\n",
    "        s1=s1+i*2\n",
    "    return s1"
   ]
  },
  {
   "cell_type": "code",
   "execution_count": 4,
   "id": "8a8e7108",
   "metadata": {},
   "outputs": [
    {
     "data": {
      "text/plain": [
       "'HHeelllloo  WWoorrlldd'"
      ]
     },
     "execution_count": 4,
     "metadata": {},
     "output_type": "execute_result"
    }
   ],
   "source": [
    "repet_ch('Hello World')"
   ]
  },
  {
   "cell_type": "code",
   "execution_count": 5,
   "id": "42ce8d9a",
   "metadata": {},
   "outputs": [],
   "source": [
    "#2. reverse a bolean value and return 'boolean expected' if another variable type is given\n",
    "\n",
    "def reverse(n):\n",
    "    if type(n)==bool:\n",
    "        return not n\n",
    "    else:\n",
    "        return 'boolean value expected'"
   ]
  },
  {
   "cell_type": "code",
   "execution_count": 6,
   "id": "9e692217",
   "metadata": {},
   "outputs": [
    {
     "data": {
      "text/plain": [
       "False"
      ]
     },
     "execution_count": 6,
     "metadata": {},
     "output_type": "execute_result"
    }
   ],
   "source": [
    "reverse(True)"
   ]
  },
  {
   "cell_type": "code",
   "execution_count": 7,
   "id": "ffef9838",
   "metadata": {},
   "outputs": [
    {
     "data": {
      "text/plain": [
       "'boolean value expected'"
      ]
     },
     "execution_count": 7,
     "metadata": {},
     "output_type": "execute_result"
    }
   ],
   "source": [
    "reverse(9)"
   ]
  },
  {
   "cell_type": "code",
   "execution_count": 10,
   "id": "c4c87062",
   "metadata": {},
   "outputs": [],
   "source": [
    "#3. create a function that returns the thickmess (meters) of a piece of paper after folding it n times. initial thickness=0.5mm\n",
    "\n",
    "def num_fold(n):\n",
    "    m=0.5\n",
    "    for i in range(n):\n",
    "        m=m*2\n",
    "    return 'thickness is {}'.format(m/1000)"
   ]
  },
  {
   "cell_type": "code",
   "execution_count": 11,
   "id": "39a7afe0",
   "metadata": {},
   "outputs": [
    {
     "data": {
      "text/plain": [
       "'thickness is 0.008'"
      ]
     },
     "execution_count": 11,
     "metadata": {},
     "output_type": "execute_result"
    }
   ],
   "source": [
    "num_fold(4)"
   ]
  },
  {
   "cell_type": "code",
   "execution_count": 12,
   "id": "97ad4968",
   "metadata": {},
   "outputs": [],
   "source": [
    "#4. a function that takes a string and return the indexes of capital letters\n",
    "\n",
    "def index_caps(s):\n",
    "    l=[]\n",
    "    for i in range(len(s)):\n",
    "        if ord(s[i])>=65 and ord(s[i])<=90:\n",
    "            l.append(i)\n",
    "    return l"
   ]
  },
  {
   "cell_type": "code",
   "execution_count": 13,
   "id": "17d6c88b",
   "metadata": {},
   "outputs": [
    {
     "data": {
      "text/plain": [
       "[1, 3, 4, 6]"
      ]
     },
     "execution_count": 13,
     "metadata": {},
     "output_type": "execute_result"
    }
   ],
   "source": [
    "index_caps('eQuINoX')"
   ]
  },
  {
   "cell_type": "code",
   "execution_count": 17,
   "id": "9823a819",
   "metadata": {},
   "outputs": [],
   "source": [
    "#5. by list comprehension create a function that finds all even number from 1 to n\n",
    "\n",
    "def find_even_num(n):\n",
    "    return [i for i in range(1,n+1) if i%2==0]"
   ]
  },
  {
   "cell_type": "code",
   "execution_count": 18,
   "id": "953ebb31",
   "metadata": {},
   "outputs": [
    {
     "data": {
      "text/plain": [
       "[2, 4, 6, 8, 10]"
      ]
     },
     "execution_count": 18,
     "metadata": {},
     "output_type": "execute_result"
    }
   ],
   "source": [
    "find_even_num(10)"
   ]
  },
  {
   "cell_type": "code",
   "execution_count": null,
   "id": "8f16417b",
   "metadata": {},
   "outputs": [],
   "source": []
  }
 ],
 "metadata": {
  "kernelspec": {
   "display_name": "Python 3 (ipykernel)",
   "language": "python",
   "name": "python3"
  },
  "language_info": {
   "codemirror_mode": {
    "name": "ipython",
    "version": 3
   },
   "file_extension": ".py",
   "mimetype": "text/x-python",
   "name": "python",
   "nbconvert_exporter": "python",
   "pygments_lexer": "ipython3",
   "version": "3.9.7"
  }
 },
 "nbformat": 4,
 "nbformat_minor": 5
}
